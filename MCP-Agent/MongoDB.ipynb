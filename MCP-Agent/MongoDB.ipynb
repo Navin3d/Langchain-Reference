{
 "cells": [
  {
   "cell_type": "code",
   "execution_count": 1,
   "id": "a16b12a0-a1b0-4b3b-80ea-f1013872ed57",
   "metadata": {},
   "outputs": [],
   "source": [
    "from langchain_ollama import ChatOllama\n",
    "from langchain_core.runnables import RunnableSequence, RunnableParallel\n",
    "from langchain.prompts import ChatMessagePromptTemplate\n",
    "from langchain_core.tools import tool"
   ]
  },
  {
   "cell_type": "code",
   "execution_count": 4,
   "id": "c6eebe20-bb84-4c23-aabe-8b182893d59f",
   "metadata": {},
   "outputs": [],
   "source": [
    "llm = ChatOllama(model=\"qwen2.5:latest\", temperature=0.7, streaming=False)"
   ]
  },
  {
   "cell_type": "code",
   "execution_count": 5,
   "id": "8ee35122-0df4-43cf-a871-500965f754a0",
   "metadata": {},
   "outputs": [
    {
     "data": {
      "text/plain": [
       "AIMessage(content='Hello! How can I assist you today? Feel free to ask me any questions or let me know if you need help with anything.', additional_kwargs={}, response_metadata={'model': 'qwen2.5:latest', 'created_at': '2025-10-15T13:27:51.1609226Z', 'done': True, 'done_reason': 'stop', 'total_duration': 1851813800, 'load_duration': 1552578800, 'prompt_eval_count': 30, 'prompt_eval_duration': 84240000, 'eval_count': 28, 'eval_duration': 214413400, 'model_name': 'qwen2.5:latest'}, id='run--2c03a3e1-4996-4fef-8d16-ddf8c4b95b1f-0', usage_metadata={'input_tokens': 30, 'output_tokens': 28, 'total_tokens': 58})"
      ]
     },
     "execution_count": 5,
     "metadata": {},
     "output_type": "execute_result"
    }
   ],
   "source": [
    "llm.invoke(\"hi\")"
   ]
  },
  {
   "cell_type": "code",
   "execution_count": null,
   "id": "ed838b36-588d-45a4-a69e-eea8afcae0d3",
   "metadata": {},
   "outputs": [],
   "source": []
  }
 ],
 "metadata": {
  "kernelspec": {
   "display_name": "Python 3 (ipykernel)",
   "language": "python",
   "name": "python3"
  },
  "language_info": {
   "codemirror_mode": {
    "name": "ipython",
    "version": 3
   },
   "file_extension": ".py",
   "mimetype": "text/x-python",
   "name": "python",
   "nbconvert_exporter": "python",
   "pygments_lexer": "ipython3",
   "version": "3.11.13"
  }
 },
 "nbformat": 4,
 "nbformat_minor": 5
}
