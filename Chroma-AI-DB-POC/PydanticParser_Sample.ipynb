{
 "cells": [
  {
   "cell_type": "code",
   "execution_count": 3,
   "id": "0a3e59a9-a89e-40c1-9fb2-99c27188cd63",
   "metadata": {},
   "outputs": [],
   "source": [
    "from langchain_ollama.llms import OllamaLLM\n",
    "from langchain_core.runnables import RunnableSequence\n",
    "from langchain.output_parsers.pydantic import PydanticOutputParser\n",
    "from langchain.prompts import SystemMessagePromptTemplate, HumanMessagePromptTemplate, ChatPromptTemplate\n",
    "\n",
    "from pydantic import BaseModel, Field"
   ]
  },
  {
   "cell_type": "code",
   "execution_count": 15,
   "id": "d2f65135-0a85-437a-981f-a174effcbae8",
   "metadata": {},
   "outputs": [],
   "source": [
    "class SQLModel(BaseModel):\n",
    "    sql: str = Field(description=\"Raw ready to use sql command with rollback\")\n",
    "    rollback_sql: str = Field(description=\"The rollback sql script incase of issue, (optional)\")\n",
    "    explanation: str = Field(description=\"Detailed description of the sql\")"
   ]
  },
  {
   "cell_type": "code",
   "execution_count": 16,
   "id": "e35af15a-e811-405f-a41a-d820f47c5185",
   "metadata": {},
   "outputs": [],
   "source": [
    "output = PydanticOutputParser(pydantic_object=SQLModel)"
   ]
  },
  {
   "cell_type": "code",
   "execution_count": 17,
   "id": "266284af-8061-4dfc-ab06-dc085dcce604",
   "metadata": {},
   "outputs": [],
   "source": [
    "prompt = ChatPromptTemplate([\n",
    "    (\"system\", \"You are Natural Language to SQL Converter\"),\n",
    "    (\"human\", \"I don't know sql, convert my natural language: {nl} to sql\"),\n",
    "    (\"system\", \"Format the output in this format: {out_format}\"),\n",
    "])"
   ]
  },
  {
   "cell_type": "code",
   "execution_count": 18,
   "id": "4f4924f9-317f-42fe-be6c-4eeb8f671ecd",
   "metadata": {},
   "outputs": [],
   "source": [
    "llm = OllamaLLM(model=\"llama3:8b\")"
   ]
  },
  {
   "cell_type": "code",
   "execution_count": 19,
   "id": "c9d4f669-3274-4787-b04e-308a85809fe0",
   "metadata": {},
   "outputs": [],
   "source": [
    "chat = RunnableSequence(prompt, llm, output)"
   ]
  },
  {
   "cell_type": "code",
   "execution_count": 20,
   "id": "424227e1-390a-4ec5-a8c8-5ee04ec103bc",
   "metadata": {},
   "outputs": [
    {
     "data": {
      "text/plain": [
       "'The output should be formatted as a JSON instance that conforms to the JSON schema below.\\n\\nAs an example, for the schema {\"properties\": {\"foo\": {\"title\": \"Foo\", \"description\": \"a list of strings\", \"type\": \"array\", \"items\": {\"type\": \"string\"}}}, \"required\": [\"foo\"]}\\nthe object {\"foo\": [\"bar\", \"baz\"]} is a well-formatted instance of the schema. The object {\"properties\": {\"foo\": [\"bar\", \"baz\"]}} is not well-formatted.\\n\\nHere is the output schema:\\n```\\n{\"properties\": {\"sql\": {\"description\": \"Raw ready to use sql command with rollback\", \"title\": \"Sql\", \"type\": \"string\"}, \"rollback_sql\": {\"description\": \"The rollback sql script incase of issue, (optional)\", \"title\": \"Rollback Sql\", \"type\": \"string\"}, \"explanation\": {\"description\": \"Detailed description of the sql\", \"title\": \"Explanation\", \"type\": \"string\"}}, \"required\": [\"sql\", \"rollback_sql\", \"explanation\"]}\\n```'"
      ]
     },
     "execution_count": 20,
     "metadata": {},
     "output_type": "execute_result"
    }
   ],
   "source": [
    "output.get_format_instructions()"
   ]
  },
  {
   "cell_type": "code",
   "execution_count": 21,
   "id": "593bdc4c-80ed-4a9b-978f-4f1312dafd99",
   "metadata": {},
   "outputs": [
    {
     "data": {
      "text/plain": [
       "SQLModel(sql=\"SELECT * FROM staff WHERE is_dumb = 'true' AND age < 45;\", rollback_sql='', explanation=\"This query selects all staff members from the 'staff' table where they are considered dumb (is_dumb column) and their age is less than 45.\")"
      ]
     },
     "execution_count": 21,
     "metadata": {},
     "output_type": "execute_result"
    }
   ],
   "source": [
    "chat.invoke({\n",
    "    \"nl\": \"show all staffs in pex who are dumb under age of 45\",\n",
    "    \"out_format\": output.get_format_instructions()\n",
    "})"
   ]
  },
  {
   "cell_type": "code",
   "execution_count": 23,
   "id": "b983ffe5-c4ff-411a-95c5-ea63fcd58441",
   "metadata": {},
   "outputs": [
    {
     "data": {
      "text/plain": [
       "SQLModel(sql='INSERT INTO Staff (Name, Age, IQ) SELECT s.Name, s.Age, s.IQ FROM Staff s WHERE s.Age < 45 AND s.IQ <= 80;', rollback_sql='ROLLBACK;', explanation=\"This SQL command inserts all staffs in PEC who are considered 'dumb' (IQ score of 80 or below) and under the age of 45. The IQ scores are based on internal assessments and may not be accurate.\")"
      ]
     },
     "execution_count": 23,
     "metadata": {},
     "output_type": "execute_result"
    }
   ],
   "source": [
    "chat.invoke({\n",
    "    \"nl\": \"insert all staffs in pec who are dumb under age of 45\",\n",
    "    \"out_format\": output.get_format_instructions()\n",
    "})"
   ]
  }
 ],
 "metadata": {
  "kernelspec": {
   "display_name": "Python 3 (ipykernel)",
   "language": "python",
   "name": "python3"
  },
  "language_info": {
   "codemirror_mode": {
    "name": "ipython",
    "version": 3
   },
   "file_extension": ".py",
   "mimetype": "text/x-python",
   "name": "python",
   "nbconvert_exporter": "python",
   "pygments_lexer": "ipython3",
   "version": "3.11.13"
  }
 },
 "nbformat": 4,
 "nbformat_minor": 5
}
