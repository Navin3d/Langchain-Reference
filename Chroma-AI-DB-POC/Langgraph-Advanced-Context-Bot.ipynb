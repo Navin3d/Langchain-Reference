{
 "cells": [
  {
   "cell_type": "code",
   "execution_count": 1,
   "id": "dc5d5625-948f-4822-a7fa-6542de342937",
   "metadata": {},
   "outputs": [],
   "source": [
    "import uuid\n",
    "\n",
    "from langchain_ollama import OllamaLLM\n",
    "from langchain_core.runnables import RunnableSequence, RunnableBranch, RunnableLambda\n",
    "from langchain_core.prompts import ChatPromptTemplate\n",
    "from langgraph.checkpoint.memory import MemorySaver\n",
    "from langgraph.graph import START, MessagesState, StateGraph"
   ]
  },
  {
   "cell_type": "code",
   "execution_count": 2,
   "id": "8f2f3604-e7d6-447d-8d90-83fe6e2a7d54",
   "metadata": {},
   "outputs": [],
   "source": [
    "llm = OllamaLLM(model=\"llama3:8b\")"
   ]
  },
  {
   "cell_type": "code",
   "execution_count": 3,
   "id": "9672321d-306b-4811-bea0-9f3eeecb38e0",
   "metadata": {},
   "outputs": [],
   "source": [
    "identification_template = ChatPromptTemplate.from_messages([\n",
    "    (\"system\", (\n",
    "        \"You are a classification assistant. \"\n",
    "        \"Your task is to determine if the user's question is specifically about SQL-related tasks, queries, or commands. \"\n",
    "        \"Respond only with 'True' if it is related to SQL, otherwise respond with 'False'. \"\n",
    "        \"Return exactly one word: 'True' or 'False'.\"\n",
    "        \"Examples:\\n\"\n",
    "        \"Q: How do I get users below age 18? → True\\n\"\n",
    "        \"Q: What is Python? → False\\n\"\n",
    "        \"Q: List all orders placed in the last 7 days → True\\n\"\n",
    "        \"Q: Tell me a joke → False\\n\"\n",
    "        \"Only return one word: True or False.\"\n",
    "    )),\n",
    "    (\"human\", \"Is the following question about SQL? Question: {question}\")\n",
    "])\n",
    "identification_chain = RunnableSequence(identification_template, llm)\n",
    "\n",
    "def identify(prompt: MessagesState):\n",
    "    print(prompt[len(prompt) - 1].content)\n",
    "    result = identification_chain.invoke({\"question\": prompt[len(prompt) - 1].content})\n",
    "    return result.lower() == \"true\""
   ]
  },
  {
   "cell_type": "code",
   "execution_count": 4,
   "id": "50273dd9-ee53-4bd1-927a-af6bfa657eab",
   "metadata": {},
   "outputs": [],
   "source": [
    "general_template = ChatPromptTemplate.from_messages([\n",
    "    (\"system\", (\n",
    "        \"You are a helpful and friendly AI assistant. \"\n",
    "        \"You provide clear, concise, and accurate answers to user questions across a wide range of topics, including technology, programming, general knowledge, and day-to-day tasks. \"\n",
    "        \"If you are uncertain or need more information, ask clarifying questions rather than guessing.\"\n",
    "    )),\n",
    "    (\"human\", \"{question}\")\n",
    "])\n",
    "general_chain = RunnableSequence(general_template, llm)\n",
    "\n",
    "def general_chat(prompt):\n",
    "    return general_chain.invoke({\"question\": prompt})\n",
    "\n",
    "general_lambda = RunnableLambda(general_chat)"
   ]
  },
  {
   "cell_type": "code",
   "execution_count": 5,
   "id": "8f8ac513-28ce-444e-aba8-ef8ec1c2a3af",
   "metadata": {},
   "outputs": [],
   "source": [
    "sql_template = ChatPromptTemplate.from_messages([\n",
    "    (\"system\", (\n",
    "        \"You are an expert SQL query generator. \"\n",
    "        \"Your job is to convert natural language questions into syntactically correct and production-ready SQL queries. \"\n",
    "        \"Always return only the SQL code block. \"\n",
    "        \"Do not provide explanations, comments, or anything else. \"\n",
    "        \"If the user’s question is unclear or missing required information like table or column names, respond with a clarifying question instead of guessing.\"\n",
    "    )),\n",
    "    (\"human\", \"Convert this question into SQL: {question}\")\n",
    "])\n",
    "sql_chain = RunnableSequence(sql_template, llm)\n",
    "\n",
    "def sql_chat(prompt):\n",
    "    return sql_chain.invoke({\"question\": prompt})\n",
    "\n",
    "sql_lambda = RunnableLambda(sql_chat)"
   ]
  },
  {
   "cell_type": "code",
   "execution_count": 6,
   "id": "f2e310d2-5e09-4ff8-9615-74e80924826c",
   "metadata": {},
   "outputs": [],
   "source": [
    "def chat(state: MessagesState):\n",
    "    branch = RunnableBranch(\n",
    "        (identify, sql_lambda),\n",
    "        general_lambda\n",
    "    )\n",
    "    return {\"messages\": branch.invoke(state[\"messages\"])}"
   ]
  },
  {
   "cell_type": "code",
   "execution_count": 7,
   "id": "b68ed393-f4b1-4695-8664-e2f800fd4fcf",
   "metadata": {},
   "outputs": [],
   "source": [
    "workflow = StateGraph(state_schema=MessagesState)\n",
    "workflow.add_node(\"llm\", chat)\n",
    "workflow.add_edge(START, \"llm\")\n",
    "\n",
    "memory = MemorySaver()\n",
    "\n",
    "chat_bot = workflow.compile(checkpointer=memory)\n",
    "\n",
    "config = {\n",
    "    \"configurable\": {\n",
    "        \"thread_id\": uuid.uuid4()\n",
    "    }\n",
    "}"
   ]
  },
  {
   "cell_type": "code",
   "execution_count": 8,
   "id": "0192e459-1aa3-4046-a6f2-c36d2d506584",
   "metadata": {},
   "outputs": [
    {
     "name": "stdin",
     "output_type": "stream",
     "text": [
      " Hi\n"
     ]
    },
    {
     "name": "stdout",
     "output_type": "stream",
     "text": [
      "================================\u001b[1m Human Message \u001b[0m=================================\n",
      "\n",
      "Hi\n",
      "Hi\n",
      "================================\u001b[1m Human Message \u001b[0m=================================\n",
      "\n",
      "Hello! I'm thrilled to be assisting you. What's on your mind today? Do you have a specific question or topic you'd like to discuss?\n"
     ]
    },
    {
     "name": "stdin",
     "output_type": "stream",
     "text": [
      " I would like to ask your to visualize my app data from db\n"
     ]
    },
    {
     "name": "stdout",
     "output_type": "stream",
     "text": [
      "================================\u001b[1m Human Message \u001b[0m=================================\n",
      "\n",
      "I would like to ask your to visualize my app data from db\n",
      "I would like to ask your to visualize my app data from db\n",
      "================================\u001b[1m Human Message \u001b[0m=================================\n",
      "\n",
      "SELECT * FROM db;\n"
     ]
    },
    {
     "name": "stdin",
     "output_type": "stream",
     "text": [
      " U got it wrong\n"
     ]
    },
    {
     "name": "stdout",
     "output_type": "stream",
     "text": [
      "================================\u001b[1m Human Message \u001b[0m=================================\n",
      "\n",
      "U got it wrong\n",
      "U got it wrong\n",
      "================================\u001b[1m Human Message \u001b[0m=================================\n",
      "\n",
      "I'm happy to help! However, I need a bit more information from you. It seems like you'd like me to visualize your app data from the database, but there's a query missing. \n",
      "\n",
      "Could you please provide the SQL query that retrieves the data you're interested in visualizing? Additionally, what type of visualization are you looking for (e.g., chart, graph, table)?\n"
     ]
    },
    {
     "name": "stdin",
     "output_type": "stream",
     "text": [
      " find all users name and age = 19 whose name is navin\n"
     ]
    },
    {
     "name": "stdout",
     "output_type": "stream",
     "text": [
      "================================\u001b[1m Human Message \u001b[0m=================================\n",
      "\n",
      "find all users name and age = 19 whose name is navin\n",
      "find all users name and age = 19 whose name is navin\n",
      "================================\u001b[1m Human Message \u001b[0m=================================\n",
      "\n",
      "SELECT u.name, u.age\n",
      "FROM users u\n",
      "WHERE u.name = 'navin' AND u.age = 19;\n"
     ]
    },
    {
     "name": "stdin",
     "output_type": "stream",
     "text": [
      " /bye\n"
     ]
    },
    {
     "name": "stdout",
     "output_type": "stream",
     "text": [
      "================================\u001b[1m Human Message \u001b[0m=================================\n",
      "\n",
      "/bye\n",
      "/bye\n",
      "================================\u001b[1m Human Message \u001b[0m=================================\n",
      "\n",
      "I'd be happy to help you with that! However, I need a bit more information from you. It seems like you'd like me to visualize your app data from the database, but there's a query missing.\n",
      "\n",
      "Could you please provide the SQL query that retrieves the data you're interested in visualizing? Additionally, what type of visualization are you looking for (e.g., chart, graph, table)?\n",
      "\n",
      "Also, I noticed that you mentioned finding all users with name \"navin\" and age 19. It seems like you've provided a SQL query to achieve this. Is there anything specific you'd like me to do with these results?\n"
     ]
    }
   ],
   "source": [
    "question = \"\"\n",
    "\n",
    "while question != \"/bye\":\n",
    "    question = str(input())\n",
    "    for event in chat_bot.stream({\"messages\": [question]}, config, stream_mode=\"values\"):\n",
    "        event[\"messages\"][-1].pretty_print()"
   ]
  }
 ],
 "metadata": {
  "kernelspec": {
   "display_name": "Python 3 (ipykernel)",
   "language": "python",
   "name": "python3"
  },
  "language_info": {
   "codemirror_mode": {
    "name": "ipython",
    "version": 3
   },
   "file_extension": ".py",
   "mimetype": "text/x-python",
   "name": "python",
   "nbconvert_exporter": "python",
   "pygments_lexer": "ipython3",
   "version": "3.11.13"
  }
 },
 "nbformat": 4,
 "nbformat_minor": 5
}
