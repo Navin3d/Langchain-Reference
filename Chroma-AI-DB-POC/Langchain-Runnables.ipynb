{
 "cells": [
  {
   "cell_type": "code",
   "execution_count": 1,
   "id": "c6fdd229-506d-4503-9e2d-d1c0effee8fc",
   "metadata": {},
   "outputs": [],
   "source": [
    "from langchain_core.runnables import RunnableSequence, RunnableParallel, RunnableLambda, RunnableMap"
   ]
  },
  {
   "cell_type": "code",
   "execution_count": null,
   "id": "84805511-d521-48e5-ba1f-d2d5849cfcf8",
   "metadata": {},
   "outputs": [],
   "source": []
  }
 ],
 "metadata": {
  "kernelspec": {
   "display_name": "Python 3.10 (langchain)",
   "language": "python",
   "name": "langchain"
  },
  "language_info": {
   "codemirror_mode": {
    "name": "ipython",
    "version": 3
   },
   "file_extension": ".py",
   "mimetype": "text/x-python",
   "name": "python",
   "nbconvert_exporter": "python",
   "pygments_lexer": "ipython3",
   "version": "3.10.18"
  }
 },
 "nbformat": 4,
 "nbformat_minor": 5
}
