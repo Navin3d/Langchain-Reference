{
 "cells": [
  {
   "cell_type": "code",
   "execution_count": 1,
   "id": "c6fdd229-506d-4503-9e2d-d1c0effee8fc",
   "metadata": {},
   "outputs": [],
   "source": [
    "from langchain_core.runnables import RunnableSequence, RunnableParallel, RunnableLambda, RunnableMap"
   ]
  },
  {
   "cell_type": "code",
   "execution_count": 2,
   "id": "84805511-d521-48e5-ba1f-d2d5849cfcf8",
   "metadata": {},
   "outputs": [],
   "source": [
    "TEXT = 'Hi Fuck Langchain'"
   ]
  },
  {
   "cell_type": "code",
   "execution_count": 14,
   "id": "ce89cc74-06e6-4aab-849c-b80962e0694f",
   "metadata": {},
   "outputs": [],
   "source": [
    "lower_casing = lambda text: text.lower()\n",
    "\n",
    "lower_chain = RunnableLambda(lower_casing)"
   ]
  },
  {
   "cell_type": "code",
   "execution_count": 7,
   "id": "d2ea3152-6933-448f-9ab5-9c6091beaf35",
   "metadata": {},
   "outputs": [],
   "source": [
    "upper_casing = lambda text: text.upper()\n",
    "\n",
    "upper_chain = RunnableLambda(upper_casing)"
   ]
  },
  {
   "cell_type": "code",
   "execution_count": 10,
   "id": "eb9e0a45-ec4d-4f1d-b6f0-4afb9e5a1693",
   "metadata": {},
   "outputs": [
    {
     "data": {
      "text/plain": [
       "{'Upper': 'HI FUCK LANGCHAIN', 'Lower': 'hi fuck langchain'}"
      ]
     },
     "execution_count": 10,
     "metadata": {},
     "output_type": "execute_result"
    }
   ],
   "source": [
    "parallel = RunnableParallel({\n",
    "    \"Upper\": upper_chain,\n",
    "    \"Lower\": lower_chain\n",
    "})\n",
    "\n",
    "parallel.invoke(TEXT)"
   ]
  },
  {
   "cell_type": "code",
   "execution_count": 12,
   "id": "fb54970b-02f1-4017-9174-3e3ebeb5493b",
   "metadata": {},
   "outputs": [
    {
     "data": {
      "text/plain": [
       "'HI FUCK LANGCHAIN'"
      ]
     },
     "execution_count": 12,
     "metadata": {},
     "output_type": "execute_result"
    }
   ],
   "source": [
    "sequence = RunnableSequence(lower_chain, upper_chain)\n",
    "\n",
    "sequence.invoke(TEXT)"
   ]
  }
 ],
 "metadata": {
  "kernelspec": {
   "display_name": "Python 3.10 (langchain)",
   "language": "python",
   "name": "langchain"
  },
  "language_info": {
   "codemirror_mode": {
    "name": "ipython",
    "version": 3
   },
   "file_extension": ".py",
   "mimetype": "text/x-python",
   "name": "python",
   "nbconvert_exporter": "python",
   "pygments_lexer": "ipython3",
   "version": "3.10.18"
  }
 },
 "nbformat": 4,
 "nbformat_minor": 5
}
