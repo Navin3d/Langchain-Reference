{
 "cells": [
  {
   "cell_type": "code",
   "execution_count": 5,
   "id": "ed3046aa-6164-45bc-9db1-2328fad96a31",
   "metadata": {},
   "outputs": [],
   "source": [
    "from langchain_ollama import OllamaLLM\n",
    "from langchain.prompts import PromptTemplate\n",
    "from langchain_core.runnables import RunnableSequence"
   ]
  },
  {
   "cell_type": "code",
   "execution_count": 2,
   "id": "28026edc-48ba-4c45-8db5-7cb4bb586b56",
   "metadata": {},
   "outputs": [],
   "source": [
    "# Load LLaMA via Ollama\n",
    "llm = OllamaLLM(model=\"llama3:8b\")"
   ]
  },
  {
   "cell_type": "code",
   "execution_count": 12,
   "id": "ce4941c3-fc45-4f78-9d78-df6698df44c7",
   "metadata": {},
   "outputs": [],
   "source": [
    "# Create a simple prompt template\n",
    "prompt = PromptTemplate.from_template(\"What are the benefits of {topic}?\")\n",
    "\n",
    "# Create a chain\n",
    "chain = RunnableSequence(prompt, llm)"
   ]
  },
  {
   "cell_type": "code",
   "execution_count": 13,
   "id": "172d8a20-0f92-40dd-b19b-ac8df6f35234",
   "metadata": {},
   "outputs": [
    {
     "name": "stdout",
     "output_type": "stream",
     "text": [
      "Exercise has numerous benefits for both physical and mental health. Some of the most significant advantages include:\n",
      "\n",
      "1. **Weight Management**: Regular exercise helps maintain a healthy weight, reduce body fat, and improve body composition.\n",
      "2. **Cardiovascular Health**: Exercise strengthens the heart and lungs, reducing the risk of heart disease, strokes, and high blood pressure.\n",
      "3. **Increased Strength and Flexibility**: Regular physical activity can improve muscle mass, bone density, and flexibility, making daily activities easier.\n",
      "4. **Improved Mental Health**: Exercise has been shown to reduce symptoms of anxiety and depression, improve mood, and enhance cognitive function.\n",
      "5. **Enhanced Sleep**: Regular exercise can help regulate sleep patterns, leading to better rest and reduced risk of sleep disorders.\n",
      "6. **Increased Energy**: Physical activity boosts energy levels by improving circulation, reducing fatigue, and increasing oxygen delivery to the muscles.\n",
      "7. **Reduced Risk of Chronic Diseases**: Exercise has been linked to a lower risk of developing type 2 diabetes, certain types of cancer, and osteoporosis.\n",
      "8. **Improved Bone Density**: Weight-bearing exercises can help strengthen bones, reducing the risk of osteoporosis and fractures.\n",
      "9. **Better Brain Function**: Exercise has been shown to improve cognitive function, memory, and concentration, potentially delaying age-related cognitive decline.\n",
      "10. **Social Benefits**: Engaging in group fitness activities or sports can foster social connections, reduce feelings of loneliness, and improve overall well-being.\n",
      "11. **Reduced Stress**: Physical activity can help alleviate stress and anxiety by releasing endorphins, also known as \"feel-good\" hormones.\n",
      "12. **Improved Immune Function**: Exercise has been shown to boost the immune system, reducing the risk of illnesses like the common cold and flu.\n",
      "13. **Better Digestion**: Regular physical activity can improve digestion, reduce symptoms of irritable bowel syndrome (IBS), and promote regular bowel movements.\n",
      "14. **Increased Self-Esteem**: Regular exercise can enhance self-esteem, body image, and overall confidence.\n",
      "15. **Reduced Risk of Premature Death**: A study published in the Journal of the American Medical Association found that regular physical activity reduces the risk of premature death by up to 30%.\n",
      "\n",
      "Remember, it's essential to find an exercise routine that you enjoy and can stick with in the long term. Consistency is key to experiencing these benefits!\n"
     ]
    }
   ],
   "source": [
    "# Run the chain\n",
    "result = chain.invoke({\"topic\": \"exercise\"})\n",
    "print(result)"
   ]
  }
 ],
 "metadata": {
  "kernelspec": {
   "display_name": "Python 3 (ipykernel)",
   "language": "python",
   "name": "python3"
  },
  "language_info": {
   "codemirror_mode": {
    "name": "ipython",
    "version": 3
   },
   "file_extension": ".py",
   "mimetype": "text/x-python",
   "name": "python",
   "nbconvert_exporter": "python",
   "pygments_lexer": "ipython3",
   "version": "3.11.13"
  }
 },
 "nbformat": 4,
 "nbformat_minor": 5
}
