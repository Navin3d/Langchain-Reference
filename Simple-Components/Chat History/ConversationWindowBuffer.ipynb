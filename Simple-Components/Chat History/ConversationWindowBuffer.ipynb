{
 "cells": [
  {
   "cell_type": "code",
   "execution_count": 17,
   "id": "3e8940b1-8346-4181-84f9-7272325f31d7",
   "metadata": {},
   "outputs": [],
   "source": [
    "from langchain.chains import LLMChain\n",
    "from langchain.memory import ConversationBufferWindowMemory\n",
    "from langchain_core.runnables import RunnableSequence, RunnableLambda\n",
    "from langchain_core.prompts import ChatPromptTemplate\n",
    "from langchain_core.messages import SystemMessage\n",
    "from langchain_core.prompts.chat import (\n",
    "    ChatPromptTemplate,\n",
    "    HumanMessagePromptTemplate,\n",
    "    MessagesPlaceholder,\n",
    ")\n",
    "\n",
    "from langchain_ollama import OllamaLLM"
   ]
  },
  {
   "cell_type": "code",
   "execution_count": 18,
   "id": "b17dff89-c33f-4c85-83d0-690dc7781168",
   "metadata": {},
   "outputs": [],
   "source": [
    "llm = OllamaLLM(model=\"llama3:8b\")"
   ]
  },
  {
   "cell_type": "code",
   "execution_count": 25,
   "id": "d7117e19-a624-4236-85cd-584784d3008a",
   "metadata": {},
   "outputs": [],
   "source": [
    "prompt = ChatPromptTemplate(\n",
    "    [\n",
    "        SystemMessage(content=\"You are a helpful assistant.\"),\n",
    "        MessagesPlaceholder(variable_name=\"history\"),\n",
    "        HumanMessagePromptTemplate.from_template(\"{text}\"),\n",
    "    ]\n",
    ")"
   ]
  },
  {
   "cell_type": "code",
   "execution_count": 20,
   "id": "50923752-ee14-42d8-b531-bbd3d9132e0e",
   "metadata": {},
   "outputs": [],
   "source": [
    "chat = RunnableSequence(prompt, llm)"
   ]
  },
  {
   "cell_type": "code",
   "execution_count": 22,
   "id": "fc553952-bc74-4423-a9cd-8acab178a8b9",
   "metadata": {},
   "outputs": [
    {
     "data": {
      "text/plain": [
       "\"Hi! It's nice to meet you. Is there something I can help you with, or would you like to chat?\""
      ]
     },
     "execution_count": 22,
     "metadata": {},
     "output_type": "execute_result"
    }
   ],
   "source": [
    "llm.invoke(\"hi\")"
   ]
  },
  {
   "cell_type": "code",
   "execution_count": 38,
   "id": "362f7904-3912-43d3-a680-6890a849e6ee",
   "metadata": {},
   "outputs": [],
   "source": [
    "llm_memory = prompt | llm"
   ]
  },
  {
   "cell_type": "code",
   "execution_count": 55,
   "id": "bbe222c3-93f3-4dbc-857b-f0b39ef134a0",
   "metadata": {},
   "outputs": [
    {
     "name": "stdin",
     "output_type": "stream",
     "text": [
      "Ask anything.. with sence My name is Navin\n"
     ]
    },
    {
     "name": "stdout",
     "output_type": "stream",
     "text": [
      "=================== Human Message ======================\n",
      "My name is Navin\n",
      "=================== AI Message ======================\n",
      "Nice to meet you, Navin! I'm here to help with any questions or tasks you may have. How can I assist you today?\n",
      "=================== Memory ======================\n",
      "[HumanMessage(content='My name is Navin', additional_kwargs={}, response_metadata={}), AIMessage(content=\"Nice to meet you, Navin! I'm here to help with any questions or tasks you may have. How can I assist you today?\", additional_kwargs={}, response_metadata={})]\n"
     ]
    },
    {
     "name": "stdin",
     "output_type": "stream",
     "text": [
      "Ask anything.. with sence can u help me\n"
     ]
    },
    {
     "name": "stdout",
     "output_type": "stream",
     "text": [
      "=================== Human Message ======================\n",
      "can u help me\n",
      "=================== AI Message ======================\n",
      "I'd be happy to help you, Navin! You didn't specify what you need help with, so please feel free to share what's on your mind. Do you have a specific question, problem, or task in mind that you're struggling with? I'm all ears (or rather, all text)!\n",
      "=================== Memory ======================\n",
      "[HumanMessage(content='My name is Navin', additional_kwargs={}, response_metadata={}), AIMessage(content=\"Nice to meet you, Navin! I'm here to help with any questions or tasks you may have. How can I assist you today?\", additional_kwargs={}, response_metadata={}), HumanMessage(content='can u help me', additional_kwargs={}, response_metadata={}), AIMessage(content=\"I'd be happy to help you, Navin! You didn't specify what you need help with, so please feel free to share what's on your mind. Do you have a specific question, problem, or task in mind that you're struggling with? I'm all ears (or rather, all text)!\", additional_kwargs={}, response_metadata={})]\n"
     ]
    },
    {
     "name": "stdin",
     "output_type": "stream",
     "text": [
      "Ask anything.. with sence Do u Know Decent technology\n"
     ]
    },
    {
     "name": "stdout",
     "output_type": "stream",
     "text": [
      "=================== Human Message ======================\n",
      "Do u Know Decent technology\n",
      "=================== AI Message ======================\n",
      "You're looking for decent technology?\n",
      "\n",
      "Yes, there are many great technologies out there! It really depends on what you're interested in and what kind of devices or software you're looking for. Here are a few examples:\n",
      "\n",
      "* Smartphones: Samsung, Google Pixel, OnePlus, and Apple iPhones are all popular options.\n",
      "* Laptops: Dell, HP, Lenovo, and Microsoft Surface are well-regarded brands.\n",
      "* Tablets: iPads from Apple, Android tablets like the Galaxy Tab, or Amazon's Fire tablets are great for reading, browsing, and streaming.\n",
      "* Smart home devices: Amazon Echo, Google Home, and Apple HomePod are popular smart speakers. You can also consider security cameras, thermostats, and more.\n",
      "* Gaming consoles: PlayStation, Xbox, Nintendo Switch, and PC gaming rigs are all options.\n",
      "\n",
      "What specific type of technology are you looking for? Do you have a budget in mind or any particular features you're interested in?\n",
      "\n",
      "I'm here to help you explore the many great technologies out there!\n",
      "=================== Memory ======================\n",
      "[HumanMessage(content='My name is Navin', additional_kwargs={}, response_metadata={}), AIMessage(content=\"Nice to meet you, Navin! I'm here to help with any questions or tasks you may have. How can I assist you today?\", additional_kwargs={}, response_metadata={}), HumanMessage(content='can u help me', additional_kwargs={}, response_metadata={}), AIMessage(content=\"I'd be happy to help you, Navin! You didn't specify what you need help with, so please feel free to share what's on your mind. Do you have a specific question, problem, or task in mind that you're struggling with? I'm all ears (or rather, all text)!\", additional_kwargs={}, response_metadata={}), HumanMessage(content='Do u Know Decent technology', additional_kwargs={}, response_metadata={}), AIMessage(content=\"You're looking for decent technology?\\n\\nYes, there are many great technologies out there! It really depends on what you're interested in and what kind of devices or software you're looking for. Here are a few examples:\\n\\n* Smartphones: Samsung, Google Pixel, OnePlus, and Apple iPhones are all popular options.\\n* Laptops: Dell, HP, Lenovo, and Microsoft Surface are well-regarded brands.\\n* Tablets: iPads from Apple, Android tablets like the Galaxy Tab, or Amazon's Fire tablets are great for reading, browsing, and streaming.\\n* Smart home devices: Amazon Echo, Google Home, and Apple HomePod are popular smart speakers. You can also consider security cameras, thermostats, and more.\\n* Gaming consoles: PlayStation, Xbox, Nintendo Switch, and PC gaming rigs are all options.\\n\\nWhat specific type of technology are you looking for? Do you have a budget in mind or any particular features you're interested in?\\n\\nI'm here to help you explore the many great technologies out there!\", additional_kwargs={}, response_metadata={})]\n"
     ]
    },
    {
     "name": "stdin",
     "output_type": "stream",
     "text": [
      "Ask anything.. with sence my idea is o use hyperledger\n"
     ]
    },
    {
     "name": "stdout",
     "output_type": "stream",
     "text": [
      "=================== Human Message ======================\n",
      "my idea is o use hyperledger\n",
      "=================== AI Message ======================\n",
      "Hyperledger!\n",
      "\n",
      "You're considering using Hyperledger, which is a fantastic open-source platform for building blockchain-based applications. Hyperledger is a collaborative effort by The Linux Foundation and its members to create a set of blockchain-based frameworks that can be used across various industries.\n",
      "\n",
      "Here are some key aspects of Hyperledger:\n",
      "\n",
      "1. **Blockchain frameworks**: Hyperledger provides several blockchain frameworks, including Fabric, Sawtooth, Iroha, Burrow, and Indy.\n",
      "2. **Open-source**: Hyperledger is an open-source platform, which means it's free to use, modify, and distribute.\n",
      "3. **Scalability**: Hyperledger frameworks are designed to be highly scalable, making them suitable for large-scale applications.\n",
      "\n",
      "Some popular use cases for Hyperledger include:\n",
      "\n",
      "1. **Supply chain management**: Hyperledger can help track goods and services across the supply chain, ensuring authenticity and transparency.\n",
      "2. **Identity verification**: Hyperledger's Indy framework is used for decentralized identity verification, enabling individuals to control their personal data.\n",
      "3. **Smart contracts**: Hyperledger Fabric allows you to create, execute, and manage smart contracts, which are self-executing agreements with specific rules.\n",
      "\n",
      "To get started with Hyperledger, I recommend:\n",
      "\n",
      "1. **Check out the official documentation**: The Hyperledger website has extensive documentation on each framework, including tutorials and guides.\n",
      "2. **Explore the community**: Join online forums, attend meetups, or participate in discussions to connect with other developers and experts who are using Hyperledger.\n",
      "3. **Choose a suitable framework**: Based on your project's requirements, decide which Hyperledger framework best suits your needs.\n",
      "\n",
      "If you have any specific questions about Hyperledger or need help choosing the right framework, I'm here to assist you!\n",
      "=================== Memory ======================\n",
      "[HumanMessage(content='can u help me', additional_kwargs={}, response_metadata={}), AIMessage(content=\"I'd be happy to help you, Navin! You didn't specify what you need help with, so please feel free to share what's on your mind. Do you have a specific question, problem, or task in mind that you're struggling with? I'm all ears (or rather, all text)!\", additional_kwargs={}, response_metadata={}), HumanMessage(content='Do u Know Decent technology', additional_kwargs={}, response_metadata={}), AIMessage(content=\"You're looking for decent technology?\\n\\nYes, there are many great technologies out there! It really depends on what you're interested in and what kind of devices or software you're looking for. Here are a few examples:\\n\\n* Smartphones: Samsung, Google Pixel, OnePlus, and Apple iPhones are all popular options.\\n* Laptops: Dell, HP, Lenovo, and Microsoft Surface are well-regarded brands.\\n* Tablets: iPads from Apple, Android tablets like the Galaxy Tab, or Amazon's Fire tablets are great for reading, browsing, and streaming.\\n* Smart home devices: Amazon Echo, Google Home, and Apple HomePod are popular smart speakers. You can also consider security cameras, thermostats, and more.\\n* Gaming consoles: PlayStation, Xbox, Nintendo Switch, and PC gaming rigs are all options.\\n\\nWhat specific type of technology are you looking for? Do you have a budget in mind or any particular features you're interested in?\\n\\nI'm here to help you explore the many great technologies out there!\", additional_kwargs={}, response_metadata={}), HumanMessage(content='my idea is o use hyperledger', additional_kwargs={}, response_metadata={}), AIMessage(content=\"Hyperledger!\\n\\nYou're considering using Hyperledger, which is a fantastic open-source platform for building blockchain-based applications. Hyperledger is a collaborative effort by The Linux Foundation and its members to create a set of blockchain-based frameworks that can be used across various industries.\\n\\nHere are some key aspects of Hyperledger:\\n\\n1. **Blockchain frameworks**: Hyperledger provides several blockchain frameworks, including Fabric, Sawtooth, Iroha, Burrow, and Indy.\\n2. **Open-source**: Hyperledger is an open-source platform, which means it's free to use, modify, and distribute.\\n3. **Scalability**: Hyperledger frameworks are designed to be highly scalable, making them suitable for large-scale applications.\\n\\nSome popular use cases for Hyperledger include:\\n\\n1. **Supply chain management**: Hyperledger can help track goods and services across the supply chain, ensuring authenticity and transparency.\\n2. **Identity verification**: Hyperledger's Indy framework is used for decentralized identity verification, enabling individuals to control their personal data.\\n3. **Smart contracts**: Hyperledger Fabric allows you to create, execute, and manage smart contracts, which are self-executing agreements with specific rules.\\n\\nTo get started with Hyperledger, I recommend:\\n\\n1. **Check out the official documentation**: The Hyperledger website has extensive documentation on each framework, including tutorials and guides.\\n2. **Explore the community**: Join online forums, attend meetups, or participate in discussions to connect with other developers and experts who are using Hyperledger.\\n3. **Choose a suitable framework**: Based on your project's requirements, decide which Hyperledger framework best suits your needs.\\n\\nIf you have any specific questions about Hyperledger or need help choosing the right framework, I'm here to assist you!\", additional_kwargs={}, response_metadata={})]\n"
     ]
    },
    {
     "name": "stdin",
     "output_type": "stream",
     "text": [
      "Ask anything.. with sence why not healthcare\n"
     ]
    },
    {
     "name": "stdout",
     "output_type": "stream",
     "text": [
      "=================== Human Message ======================\n",
      "why not healthcare\n",
      "=================== AI Message ======================\n",
      "Hyperledger in Healthcare!\n",
      "\n",
      "You're considering using Hyperledger for healthcare applications! This is a fascinating use case, as blockchain technology can bring numerous benefits to the healthcare industry.\n",
      "\n",
      "Here are some potential ways Hyperledger can be used in healthcare:\n",
      "\n",
      "1. **Medical records management**: Hyperledger's decentralized approach ensures that patient data is secure, accurate, and easily accessible across different healthcare providers.\n",
      "2. **Medication tracking**: Blockchain-based systems can track medication dispensation, ensuring patients receive the correct dosage and reducing errors.\n",
      "3. **Supply chain management**: Hyperledger can help manage medical supplies, such as vaccines or pharmaceuticals, by tracking their origin, authenticity, and movement throughout the supply chain.\n",
      "4. **Clinical trial management**: Blockchain technology can streamline clinical trials by securely storing data, reducing errors, and ensuring participant confidentiality.\n",
      "5. **Electronic health records (EHRs)**: Hyperledger-based EHR systems can provide secure, decentralized storage of patient information, improving interoperability and reducing healthcare costs.\n",
      "\n",
      "Some potential benefits of using Hyperledger in healthcare include:\n",
      "\n",
      "1. **Improved data integrity**: Blockchain technology ensures that medical records are accurate, up-to-date, and tamper-proof.\n",
      "2. **Enhanced patient engagement**: Patients have greater control over their personal health data, allowing them to share it with authorized parties as needed.\n",
      "3. **Reduced costs**: Hyperledger-based solutions can streamline healthcare operations, reducing administrative burdens and costs.\n",
      "\n",
      "To get started with using Hyperledger in healthcare, I recommend:\n",
      "\n",
      "1. **Research existing use cases**: Look into real-world implementations of Hyperledger in healthcare, such as the MedRec project or the Blockchain for Healthcare Initiative.\n",
      "2. **Consult with experts**: Reach out to healthcare professionals, developers, and researchers who have experience working with Hyperledger in the healthcare industry.\n",
      "3. **Join relevant communities**: Participate in online forums, attend conferences, or join discussion groups focused on blockchain and healthcare.\n",
      "\n",
      "If you have any specific questions about using Hyperledger in healthcare or need help getting started, I'm here to assist you!\n",
      "=================== Memory ======================\n",
      "[HumanMessage(content='Do u Know Decent technology', additional_kwargs={}, response_metadata={}), AIMessage(content=\"You're looking for decent technology?\\n\\nYes, there are many great technologies out there! It really depends on what you're interested in and what kind of devices or software you're looking for. Here are a few examples:\\n\\n* Smartphones: Samsung, Google Pixel, OnePlus, and Apple iPhones are all popular options.\\n* Laptops: Dell, HP, Lenovo, and Microsoft Surface are well-regarded brands.\\n* Tablets: iPads from Apple, Android tablets like the Galaxy Tab, or Amazon's Fire tablets are great for reading, browsing, and streaming.\\n* Smart home devices: Amazon Echo, Google Home, and Apple HomePod are popular smart speakers. You can also consider security cameras, thermostats, and more.\\n* Gaming consoles: PlayStation, Xbox, Nintendo Switch, and PC gaming rigs are all options.\\n\\nWhat specific type of technology are you looking for? Do you have a budget in mind or any particular features you're interested in?\\n\\nI'm here to help you explore the many great technologies out there!\", additional_kwargs={}, response_metadata={}), HumanMessage(content='my idea is o use hyperledger', additional_kwargs={}, response_metadata={}), AIMessage(content=\"Hyperledger!\\n\\nYou're considering using Hyperledger, which is a fantastic open-source platform for building blockchain-based applications. Hyperledger is a collaborative effort by The Linux Foundation and its members to create a set of blockchain-based frameworks that can be used across various industries.\\n\\nHere are some key aspects of Hyperledger:\\n\\n1. **Blockchain frameworks**: Hyperledger provides several blockchain frameworks, including Fabric, Sawtooth, Iroha, Burrow, and Indy.\\n2. **Open-source**: Hyperledger is an open-source platform, which means it's free to use, modify, and distribute.\\n3. **Scalability**: Hyperledger frameworks are designed to be highly scalable, making them suitable for large-scale applications.\\n\\nSome popular use cases for Hyperledger include:\\n\\n1. **Supply chain management**: Hyperledger can help track goods and services across the supply chain, ensuring authenticity and transparency.\\n2. **Identity verification**: Hyperledger's Indy framework is used for decentralized identity verification, enabling individuals to control their personal data.\\n3. **Smart contracts**: Hyperledger Fabric allows you to create, execute, and manage smart contracts, which are self-executing agreements with specific rules.\\n\\nTo get started with Hyperledger, I recommend:\\n\\n1. **Check out the official documentation**: The Hyperledger website has extensive documentation on each framework, including tutorials and guides.\\n2. **Explore the community**: Join online forums, attend meetups, or participate in discussions to connect with other developers and experts who are using Hyperledger.\\n3. **Choose a suitable framework**: Based on your project's requirements, decide which Hyperledger framework best suits your needs.\\n\\nIf you have any specific questions about Hyperledger or need help choosing the right framework, I'm here to assist you!\", additional_kwargs={}, response_metadata={}), HumanMessage(content='why not healthcare', additional_kwargs={}, response_metadata={}), AIMessage(content=\"Hyperledger in Healthcare!\\n\\nYou're considering using Hyperledger for healthcare applications! This is a fascinating use case, as blockchain technology can bring numerous benefits to the healthcare industry.\\n\\nHere are some potential ways Hyperledger can be used in healthcare:\\n\\n1. **Medical records management**: Hyperledger's decentralized approach ensures that patient data is secure, accurate, and easily accessible across different healthcare providers.\\n2. **Medication tracking**: Blockchain-based systems can track medication dispensation, ensuring patients receive the correct dosage and reducing errors.\\n3. **Supply chain management**: Hyperledger can help manage medical supplies, such as vaccines or pharmaceuticals, by tracking their origin, authenticity, and movement throughout the supply chain.\\n4. **Clinical trial management**: Blockchain technology can streamline clinical trials by securely storing data, reducing errors, and ensuring participant confidentiality.\\n5. **Electronic health records (EHRs)**: Hyperledger-based EHR systems can provide secure, decentralized storage of patient information, improving interoperability and reducing healthcare costs.\\n\\nSome potential benefits of using Hyperledger in healthcare include:\\n\\n1. **Improved data integrity**: Blockchain technology ensures that medical records are accurate, up-to-date, and tamper-proof.\\n2. **Enhanced patient engagement**: Patients have greater control over their personal health data, allowing them to share it with authorized parties as needed.\\n3. **Reduced costs**: Hyperledger-based solutions can streamline healthcare operations, reducing administrative burdens and costs.\\n\\nTo get started with using Hyperledger in healthcare, I recommend:\\n\\n1. **Research existing use cases**: Look into real-world implementations of Hyperledger in healthcare, such as the MedRec project or the Blockchain for Healthcare Initiative.\\n2. **Consult with experts**: Reach out to healthcare professionals, developers, and researchers who have experience working with Hyperledger in the healthcare industry.\\n3. **Join relevant communities**: Participate in online forums, attend conferences, or join discussion groups focused on blockchain and healthcare.\\n\\nIf you have any specific questions about using Hyperledger in healthcare or need help getting started, I'm here to assist you!\", additional_kwargs={}, response_metadata={})]\n"
     ]
    },
    {
     "name": "stdin",
     "output_type": "stream",
     "text": [
      "Ask anything.. with sence What is my name\n"
     ]
    },
    {
     "name": "stdout",
     "output_type": "stream",
     "text": [
      "=================== Human Message ======================\n",
      "What is my name\n",
      "=================== AI Message ======================\n",
      "I apologize, but I don't think we've discussed your name yet. As our conversation began, I didn't introduce myself as an assistant nor did we share names. We dove right into discussing technology and Hyperledger in particular! If you'd like to share your name with me, I'm happy to learn it and personalize our conversation even further.\n",
      "=================== Memory ======================\n",
      "[HumanMessage(content='my idea is o use hyperledger', additional_kwargs={}, response_metadata={}), AIMessage(content=\"Hyperledger!\\n\\nYou're considering using Hyperledger, which is a fantastic open-source platform for building blockchain-based applications. Hyperledger is a collaborative effort by The Linux Foundation and its members to create a set of blockchain-based frameworks that can be used across various industries.\\n\\nHere are some key aspects of Hyperledger:\\n\\n1. **Blockchain frameworks**: Hyperledger provides several blockchain frameworks, including Fabric, Sawtooth, Iroha, Burrow, and Indy.\\n2. **Open-source**: Hyperledger is an open-source platform, which means it's free to use, modify, and distribute.\\n3. **Scalability**: Hyperledger frameworks are designed to be highly scalable, making them suitable for large-scale applications.\\n\\nSome popular use cases for Hyperledger include:\\n\\n1. **Supply chain management**: Hyperledger can help track goods and services across the supply chain, ensuring authenticity and transparency.\\n2. **Identity verification**: Hyperledger's Indy framework is used for decentralized identity verification, enabling individuals to control their personal data.\\n3. **Smart contracts**: Hyperledger Fabric allows you to create, execute, and manage smart contracts, which are self-executing agreements with specific rules.\\n\\nTo get started with Hyperledger, I recommend:\\n\\n1. **Check out the official documentation**: The Hyperledger website has extensive documentation on each framework, including tutorials and guides.\\n2. **Explore the community**: Join online forums, attend meetups, or participate in discussions to connect with other developers and experts who are using Hyperledger.\\n3. **Choose a suitable framework**: Based on your project's requirements, decide which Hyperledger framework best suits your needs.\\n\\nIf you have any specific questions about Hyperledger or need help choosing the right framework, I'm here to assist you!\", additional_kwargs={}, response_metadata={}), HumanMessage(content='why not healthcare', additional_kwargs={}, response_metadata={}), AIMessage(content=\"Hyperledger in Healthcare!\\n\\nYou're considering using Hyperledger for healthcare applications! This is a fascinating use case, as blockchain technology can bring numerous benefits to the healthcare industry.\\n\\nHere are some potential ways Hyperledger can be used in healthcare:\\n\\n1. **Medical records management**: Hyperledger's decentralized approach ensures that patient data is secure, accurate, and easily accessible across different healthcare providers.\\n2. **Medication tracking**: Blockchain-based systems can track medication dispensation, ensuring patients receive the correct dosage and reducing errors.\\n3. **Supply chain management**: Hyperledger can help manage medical supplies, such as vaccines or pharmaceuticals, by tracking their origin, authenticity, and movement throughout the supply chain.\\n4. **Clinical trial management**: Blockchain technology can streamline clinical trials by securely storing data, reducing errors, and ensuring participant confidentiality.\\n5. **Electronic health records (EHRs)**: Hyperledger-based EHR systems can provide secure, decentralized storage of patient information, improving interoperability and reducing healthcare costs.\\n\\nSome potential benefits of using Hyperledger in healthcare include:\\n\\n1. **Improved data integrity**: Blockchain technology ensures that medical records are accurate, up-to-date, and tamper-proof.\\n2. **Enhanced patient engagement**: Patients have greater control over their personal health data, allowing them to share it with authorized parties as needed.\\n3. **Reduced costs**: Hyperledger-based solutions can streamline healthcare operations, reducing administrative burdens and costs.\\n\\nTo get started with using Hyperledger in healthcare, I recommend:\\n\\n1. **Research existing use cases**: Look into real-world implementations of Hyperledger in healthcare, such as the MedRec project or the Blockchain for Healthcare Initiative.\\n2. **Consult with experts**: Reach out to healthcare professionals, developers, and researchers who have experience working with Hyperledger in the healthcare industry.\\n3. **Join relevant communities**: Participate in online forums, attend conferences, or join discussion groups focused on blockchain and healthcare.\\n\\nIf you have any specific questions about using Hyperledger in healthcare or need help getting started, I'm here to assist you!\", additional_kwargs={}, response_metadata={}), HumanMessage(content='What is my name', additional_kwargs={}, response_metadata={}), AIMessage(content=\"I apologize, but I don't think we've discussed your name yet. As our conversation began, I didn't introduce myself as an assistant nor did we share names. We dove right into discussing technology and Hyperledger in particular! If you'd like to share your name with me, I'm happy to learn it and personalize our conversation even further.\", additional_kwargs={}, response_metadata={})]\n"
     ]
    },
    {
     "name": "stdin",
     "output_type": "stream",
     "text": [
      "Ask anything.. with sence /bye\n"
     ]
    },
    {
     "name": "stdout",
     "output_type": "stream",
     "text": [
      "=================== Human Message ======================\n",
      "/bye\n",
      "=================== AI Message ======================\n",
      "It was great chatting with you about Hyperledger and exploring its potential applications, including healthcare!\n",
      "\n",
      "I'll be here whenever you need assistance or have more questions. Feel free to come back and continue the conversation anytime.\n",
      "\n",
      "Until next time, take care!\n",
      "=================== Memory ======================\n",
      "[HumanMessage(content='why not healthcare', additional_kwargs={}, response_metadata={}), AIMessage(content=\"Hyperledger in Healthcare!\\n\\nYou're considering using Hyperledger for healthcare applications! This is a fascinating use case, as blockchain technology can bring numerous benefits to the healthcare industry.\\n\\nHere are some potential ways Hyperledger can be used in healthcare:\\n\\n1. **Medical records management**: Hyperledger's decentralized approach ensures that patient data is secure, accurate, and easily accessible across different healthcare providers.\\n2. **Medication tracking**: Blockchain-based systems can track medication dispensation, ensuring patients receive the correct dosage and reducing errors.\\n3. **Supply chain management**: Hyperledger can help manage medical supplies, such as vaccines or pharmaceuticals, by tracking their origin, authenticity, and movement throughout the supply chain.\\n4. **Clinical trial management**: Blockchain technology can streamline clinical trials by securely storing data, reducing errors, and ensuring participant confidentiality.\\n5. **Electronic health records (EHRs)**: Hyperledger-based EHR systems can provide secure, decentralized storage of patient information, improving interoperability and reducing healthcare costs.\\n\\nSome potential benefits of using Hyperledger in healthcare include:\\n\\n1. **Improved data integrity**: Blockchain technology ensures that medical records are accurate, up-to-date, and tamper-proof.\\n2. **Enhanced patient engagement**: Patients have greater control over their personal health data, allowing them to share it with authorized parties as needed.\\n3. **Reduced costs**: Hyperledger-based solutions can streamline healthcare operations, reducing administrative burdens and costs.\\n\\nTo get started with using Hyperledger in healthcare, I recommend:\\n\\n1. **Research existing use cases**: Look into real-world implementations of Hyperledger in healthcare, such as the MedRec project or the Blockchain for Healthcare Initiative.\\n2. **Consult with experts**: Reach out to healthcare professionals, developers, and researchers who have experience working with Hyperledger in the healthcare industry.\\n3. **Join relevant communities**: Participate in online forums, attend conferences, or join discussion groups focused on blockchain and healthcare.\\n\\nIf you have any specific questions about using Hyperledger in healthcare or need help getting started, I'm here to assist you!\", additional_kwargs={}, response_metadata={}), HumanMessage(content='What is my name', additional_kwargs={}, response_metadata={}), AIMessage(content=\"I apologize, but I don't think we've discussed your name yet. As our conversation began, I didn't introduce myself as an assistant nor did we share names. We dove right into discussing technology and Hyperledger in particular! If you'd like to share your name with me, I'm happy to learn it and personalize our conversation even further.\", additional_kwargs={}, response_metadata={}), HumanMessage(content='/bye', additional_kwargs={}, response_metadata={}), AIMessage(content=\"It was great chatting with you about Hyperledger and exploring its potential applications, including healthcare!\\n\\nI'll be here whenever you need assistance or have more questions. Feel free to come back and continue the conversation anytime.\\n\\nUntil next time, take care!\", additional_kwargs={}, response_metadata={})]\n"
     ]
    }
   ],
   "source": [
    "text = \"\"\n",
    "memory = ConversationBufferWindowMemory(k = 3, return_messages=True)\n",
    "\n",
    "while text != \"/bye\":\n",
    "    text = input(\"Ask anything.. with sence\")\n",
    "\n",
    "    print(\"=================== Human Message ======================\")\n",
    "    print(text)\n",
    "\n",
    "    response = llm_memory.invoke({\"text\": text, \"history\": memory.load_memory_variables({})[\"history\"]})\n",
    "\n",
    "    print(\"=================== AI Message ======================\")\n",
    "    print(response)\n",
    "\n",
    "    memory.save_context({\"user\": text}, {\"ai\": response})\n",
    "\n",
    "    print(\"=================== Memory ======================\")\n",
    "    print(memory.load_memory_variables({})[\"history\"])"
   ]
  }
 ],
 "metadata": {
  "kernelspec": {
   "display_name": "Python 3 (ipykernel)",
   "language": "python",
   "name": "python3"
  },
  "language_info": {
   "codemirror_mode": {
    "name": "ipython",
    "version": 3
   },
   "file_extension": ".py",
   "mimetype": "text/x-python",
   "name": "python",
   "nbconvert_exporter": "python",
   "pygments_lexer": "ipython3",
   "version": "3.11.13"
  }
 },
 "nbformat": 4,
 "nbformat_minor": 5
}
