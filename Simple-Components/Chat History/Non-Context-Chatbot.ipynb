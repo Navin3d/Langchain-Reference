{
 "cells": [
  {
   "cell_type": "code",
   "execution_count": 1,
   "id": "2cae1b48-6c34-4318-be5e-f7852a6b311e",
   "metadata": {},
   "outputs": [],
   "source": [
    "from langchain_ollama import OllamaLLM\n",
    "from langchain_core.runnables import RunnableSequence\n",
    "from langchain.prompts import ChatPromptTemplate"
   ]
  },
  {
   "cell_type": "code",
   "execution_count": 2,
   "id": "69b99ad4-cee3-4826-9580-8e6089a277a8",
   "metadata": {},
   "outputs": [],
   "source": [
    "prompt = ChatPromptTemplate([\n",
    "    (\"system\", \"You are an answer expert, You should give ready to use answer for querries, give only answer as response\"),\n",
    "    (\"human\", \"Please give me relevent answer for this question {question}\"),\n",
    "])"
   ]
  },
  {
   "cell_type": "code",
   "execution_count": 3,
   "id": "1dab0a46-102c-4fbc-b667-86f3896454c1",
   "metadata": {},
   "outputs": [],
   "source": [
    "llm = OllamaLLM(model=\"llama3:8b\")"
   ]
  },
  {
   "cell_type": "code",
   "execution_count": 4,
   "id": "78881042-4f34-4e9f-ab52-4e4b9649c2de",
   "metadata": {},
   "outputs": [],
   "source": [
    "chain = RunnableSequence(prompt, llm)"
   ]
  },
  {
   "cell_type": "code",
   "execution_count": 5,
   "id": "229703a7-be79-43a9-a1bc-72743416c270",
   "metadata": {},
   "outputs": [
    {
     "name": "stdin",
     "output_type": "stream",
     "text": [
      " Hi my name is Navin\n"
     ]
    },
    {
     "name": "stdout",
     "output_type": "stream",
     "text": [
      "Nice to meet you, Navin!\n"
     ]
    },
    {
     "name": "stdin",
     "output_type": "stream",
     "text": [
      " Shall we discuss on my project?\n"
     ]
    },
    {
     "name": "stdout",
     "output_type": "stream",
     "text": [
      "I'd be happy to help you brainstorm and discuss your project! What's the goal or focus of your project, and what do you hope to achieve by discussing it with me?\n"
     ]
    },
    {
     "name": "stdin",
     "output_type": "stream",
     "text": [
      " What is my name\n"
     ]
    },
    {
     "name": "stdout",
     "output_type": "stream",
     "text": [
      "I'm happy to help! However, I need more information to provide a relevant answer. Could you please clarify what you mean by \"my name\"? Are you referring to your username, real name, nickname, or something else?\n"
     ]
    },
    {
     "name": "stdin",
     "output_type": "stream",
     "text": [
      " /bye\n"
     ]
    },
    {
     "name": "stdout",
     "output_type": "stream",
     "text": [
      "Goodbye!\n"
     ]
    }
   ],
   "source": [
    "history = []\n",
    "\n",
    "question = \"\"\n",
    "\n",
    "while question != \"/bye\":\n",
    "    question = str(input())\n",
    "    print(chain.invoke({\n",
    "        \"question\": question,\n",
    "        \"history\": history\n",
    "    }))\n",
    "    history.append(question)"
   ]
  },
  {
   "cell_type": "code",
   "execution_count": 6,
   "id": "7de4675a-7e50-45cd-bafb-89319aec388f",
   "metadata": {},
   "outputs": [
    {
     "data": {
      "text/plain": [
       "['Hi my name is Navin',\n",
       " 'Shall we discuss on my project?',\n",
       " 'What is my name',\n",
       " '/bye']"
      ]
     },
     "execution_count": 6,
     "metadata": {},
     "output_type": "execute_result"
    }
   ],
   "source": [
    "history"
   ]
  }
 ],
 "metadata": {
  "kernelspec": {
   "display_name": "Python 3 (ipykernel)",
   "language": "python",
   "name": "python3"
  },
  "language_info": {
   "codemirror_mode": {
    "name": "ipython",
    "version": 3
   },
   "file_extension": ".py",
   "mimetype": "text/x-python",
   "name": "python",
   "nbconvert_exporter": "python",
   "pygments_lexer": "ipython3",
   "version": "3.11.13"
  }
 },
 "nbformat": 4,
 "nbformat_minor": 5
}
