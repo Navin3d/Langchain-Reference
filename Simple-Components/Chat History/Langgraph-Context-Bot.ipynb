{
 "cells": [
  {
   "cell_type": "code",
   "execution_count": 20,
   "id": "46070f89-dd3e-44b7-9be1-83176b7a0a6b",
   "metadata": {},
   "outputs": [],
   "source": [
    "import uuid\n",
    "\n",
    "from langchain_ollama import OllamaLLM\n",
    "from langchain_core.runnables import RunnableSequence\n",
    "from langchain_core.prompts import ChatPromptTemplate\n",
    "from langgraph.checkpoint.memory import MemorySaver\n",
    "from langgraph.graph import START, MessagesState, StateGraph"
   ]
  },
  {
   "cell_type": "code",
   "execution_count": 21,
   "id": "a2b5c237-7158-4571-a75f-3c8cf562671c",
   "metadata": {},
   "outputs": [],
   "source": [
    "llm = OllamaLLM(model=\"llama3:8b\")"
   ]
  },
  {
   "cell_type": "code",
   "execution_count": 22,
   "id": "643a837b-40c1-4718-8251-a2794eb829fd",
   "metadata": {},
   "outputs": [],
   "source": [
    "prompt = ChatPromptTemplate([\n",
    "    (\"system\", \"You are an assistant\"),\n",
    "    (\"human\", \"Please answer this question {question}\"),\n",
    "])"
   ]
  },
  {
   "cell_type": "code",
   "execution_count": 23,
   "id": "c36e5211-e822-4cf6-a7cd-5bcff6c0ce43",
   "metadata": {},
   "outputs": [],
   "source": [
    "responses = []\n",
    "\n",
    "def chat(state: MessagesState):\n",
    "    response = llm.invoke(state[\"messages\"])\n",
    "    responses.append(state)\n",
    "    return {\"messages\": response}"
   ]
  },
  {
   "cell_type": "code",
   "execution_count": 24,
   "id": "c13a867c-b13e-4bc7-8d8b-dbd35a69a764",
   "metadata": {},
   "outputs": [
    {
     "data": {
      "text/plain": [
       "<langgraph.graph.state.StateGraph at 0x194d6ef3650>"
      ]
     },
     "execution_count": 24,
     "metadata": {},
     "output_type": "execute_result"
    }
   ],
   "source": [
    "workflow = StateGraph(state_schema=MessagesState)\n",
    "\n",
    "workflow.add_edge(START, \"model\")\n",
    "workflow.add_node(\"model\", chat)"
   ]
  },
  {
   "cell_type": "code",
   "execution_count": 25,
   "id": "e123bc76-eeea-4819-a503-2a42cec62d3f",
   "metadata": {},
   "outputs": [],
   "source": [
    "memory = MemorySaver()\n",
    "\n",
    "chat_bot = workflow.compile(checkpointer=memory)"
   ]
  },
  {
   "cell_type": "code",
   "execution_count": 26,
   "id": "21e8fbad-e05d-49df-944a-659dcaedd516",
   "metadata": {},
   "outputs": [],
   "source": [
    "thread_id = uuid.uuid4()\n",
    "config = {\"configurable\": {\"thread_id\": thread_id}}"
   ]
  },
  {
   "cell_type": "code",
   "execution_count": 27,
   "id": "d18ad5fc-8ab3-4e09-897f-9d907b5dd239",
   "metadata": {},
   "outputs": [
    {
     "name": "stdin",
     "output_type": "stream",
     "text": [
      " Hi im Navin\n"
     ]
    },
    {
     "name": "stdout",
     "output_type": "stream",
     "text": [
      "================================\u001b[1m Human Message \u001b[0m=================================\n",
      "\n",
      "Hi im Navin\n",
      "================================\u001b[1m Human Message \u001b[0m=================================\n",
      "\n",
      "Nice to meet you, Navin! I'm your friendly AI assistant. What brings you here today? Do you have a particular topic in mind or just looking for some conversation?\n"
     ]
    },
    {
     "name": "stdin",
     "output_type": "stream",
     "text": [
      " I want to discuss about my project\n"
     ]
    },
    {
     "name": "stdout",
     "output_type": "stream",
     "text": [
      "================================\u001b[1m Human Message \u001b[0m=================================\n",
      "\n",
      "I want to discuss about my project\n",
      "================================\u001b[1m Human Message \u001b[0m=================================\n",
      "\n",
      "Hello Navin! Nice to meet you too! I'm excited to hear about your project. Please go ahead and share what's been on your mind, and I'll do my best to assist you with any questions, ideas, or concerns you might have.\n",
      "\n",
      "Are you looking for feedback, seeking advice, or just wanting to bounce some ideas off me? Let's chat!\n"
     ]
    },
    {
     "name": "stdin",
     "output_type": "stream",
     "text": [
      " what is my name\n"
     ]
    },
    {
     "name": "stdout",
     "output_type": "stream",
     "text": [
      "================================\u001b[1m Human Message \u001b[0m=================================\n",
      "\n",
      "what is my name\n",
      "================================\u001b[1m Human Message \u001b[0m=================================\n",
      "\n",
      "Nice to meet you too! According to our conversation, your name is Navin. I'm here to listen and help with any questions or concerns you might have about your project. Go ahead and share more about it!\n"
     ]
    },
    {
     "name": "stdin",
     "output_type": "stream",
     "text": [
      " /bye\n"
     ]
    },
    {
     "name": "stdout",
     "output_type": "stream",
     "text": [
      "================================\u001b[1m Human Message \u001b[0m=================================\n",
      "\n",
      "/bye\n",
      "================================\u001b[1m Human Message \u001b[0m=================================\n",
      "\n",
      "A short but sweet conversation!\n",
      "\n",
      "It seems like you wanted to discuss a project with me, and I'd be happy to help. Unfortunately, our conversation was cut short, and we didn't get a chance to delve deeper into the details of your project.\n",
      "\n",
      "If you're willing, could you please come back and share more about what's been on your mind? I'll do my best to provide feedback, offer advice, or simply listen and offer support.\n"
     ]
    }
   ],
   "source": [
    "question = \"\"\n",
    "\n",
    "while question != \"/bye\":\n",
    "    question = str(input())\n",
    "    for event in chat_bot.stream({\"messages\": [question]}, config, stream_mode=\"values\"):\n",
    "        event[\"messages\"][-1].pretty_print()"
   ]
  },
  {
   "cell_type": "code",
   "execution_count": 28,
   "id": "5994aead-ce60-48d2-9e4b-816960f7306a",
   "metadata": {},
   "outputs": [
    {
     "data": {
      "text/plain": [
       "[{'messages': [HumanMessage(content='Hi im Navin', additional_kwargs={}, response_metadata={}, id='89918289-81bf-414c-9014-10b4418bbd01')]},\n",
       " {'messages': [HumanMessage(content='Hi im Navin', additional_kwargs={}, response_metadata={}, id='89918289-81bf-414c-9014-10b4418bbd01'),\n",
       "   HumanMessage(content=\"Nice to meet you, Navin! I'm your friendly AI assistant. What brings you here today? Do you have a particular topic in mind or just looking for some conversation?\", additional_kwargs={}, response_metadata={}, id='2461e20a-e452-4ed9-b79c-d263ecf6c202'),\n",
       "   HumanMessage(content='I want to discuss about my project', additional_kwargs={}, response_metadata={}, id='4dbddbc5-c954-47f0-80e6-df1dd79f794e')]},\n",
       " {'messages': [HumanMessage(content='Hi im Navin', additional_kwargs={}, response_metadata={}, id='89918289-81bf-414c-9014-10b4418bbd01'),\n",
       "   HumanMessage(content=\"Nice to meet you, Navin! I'm your friendly AI assistant. What brings you here today? Do you have a particular topic in mind or just looking for some conversation?\", additional_kwargs={}, response_metadata={}, id='2461e20a-e452-4ed9-b79c-d263ecf6c202'),\n",
       "   HumanMessage(content='I want to discuss about my project', additional_kwargs={}, response_metadata={}, id='4dbddbc5-c954-47f0-80e6-df1dd79f794e'),\n",
       "   HumanMessage(content=\"Hello Navin! Nice to meet you too! I'm excited to hear about your project. Please go ahead and share what's been on your mind, and I'll do my best to assist you with any questions, ideas, or concerns you might have.\\n\\nAre you looking for feedback, seeking advice, or just wanting to bounce some ideas off me? Let's chat!\", additional_kwargs={}, response_metadata={}, id='edce6947-1f30-4811-a4ee-49a38fdfc93c'),\n",
       "   HumanMessage(content='what is my name', additional_kwargs={}, response_metadata={}, id='da349119-d217-4b3d-9115-42c53251c478')]},\n",
       " {'messages': [HumanMessage(content='Hi im Navin', additional_kwargs={}, response_metadata={}, id='89918289-81bf-414c-9014-10b4418bbd01'),\n",
       "   HumanMessage(content=\"Nice to meet you, Navin! I'm your friendly AI assistant. What brings you here today? Do you have a particular topic in mind or just looking for some conversation?\", additional_kwargs={}, response_metadata={}, id='2461e20a-e452-4ed9-b79c-d263ecf6c202'),\n",
       "   HumanMessage(content='I want to discuss about my project', additional_kwargs={}, response_metadata={}, id='4dbddbc5-c954-47f0-80e6-df1dd79f794e'),\n",
       "   HumanMessage(content=\"Hello Navin! Nice to meet you too! I'm excited to hear about your project. Please go ahead and share what's been on your mind, and I'll do my best to assist you with any questions, ideas, or concerns you might have.\\n\\nAre you looking for feedback, seeking advice, or just wanting to bounce some ideas off me? Let's chat!\", additional_kwargs={}, response_metadata={}, id='edce6947-1f30-4811-a4ee-49a38fdfc93c'),\n",
       "   HumanMessage(content='what is my name', additional_kwargs={}, response_metadata={}, id='da349119-d217-4b3d-9115-42c53251c478'),\n",
       "   HumanMessage(content=\"Nice to meet you too! According to our conversation, your name is Navin. I'm here to listen and help with any questions or concerns you might have about your project. Go ahead and share more about it!\", additional_kwargs={}, response_metadata={}, id='b0e98dbd-d627-41dc-a1ae-1024ea1b2f9c'),\n",
       "   HumanMessage(content='/bye', additional_kwargs={}, response_metadata={}, id='f2789c88-9f3f-418e-8cd1-2b8815e97431')]}]"
      ]
     },
     "execution_count": 28,
     "metadata": {},
     "output_type": "execute_result"
    }
   ],
   "source": [
    "responses"
   ]
  }
 ],
 "metadata": {
  "kernelspec": {
   "display_name": "Python 3 (ipykernel)",
   "language": "python",
   "name": "python3"
  },
  "language_info": {
   "codemirror_mode": {
    "name": "ipython",
    "version": 3
   },
   "file_extension": ".py",
   "mimetype": "text/x-python",
   "name": "python",
   "nbconvert_exporter": "python",
   "pygments_lexer": "ipython3",
   "version": "3.11.13"
  }
 },
 "nbformat": 4,
 "nbformat_minor": 5
}
