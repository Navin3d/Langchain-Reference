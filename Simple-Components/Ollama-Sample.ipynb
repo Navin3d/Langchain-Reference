{
 "cells": [
  {
   "cell_type": "code",
   "execution_count": 1,
   "id": "ed3046aa-6164-45bc-9db1-2328fad96a31",
   "metadata": {},
   "outputs": [],
   "source": [
    "from langchain_ollama import OllamaLLM\n",
    "from langchain.prompts import PromptTemplate\n",
    "from langchain_core.runnables import RunnableSequence"
   ]
  },
  {
   "cell_type": "code",
   "execution_count": 2,
   "id": "28026edc-48ba-4c45-8db5-7cb4bb586b56",
   "metadata": {},
   "outputs": [],
   "source": [
    "# Load LLaMA via Ollama\n",
    "llm = OllamaLLM(model=\"llama3:8b\")"
   ]
  },
  {
   "cell_type": "code",
   "execution_count": 3,
   "id": "ce4941c3-fc45-4f78-9d78-df6698df44c7",
   "metadata": {},
   "outputs": [],
   "source": [
    "# Create a simple prompt template\n",
    "prompt = PromptTemplate.from_template(\"What are the benefits of {topic}?\")\n",
    "\n",
    "# Create a chain\n",
    "chain = RunnableSequence(prompt, llm)"
   ]
  },
  {
   "cell_type": "code",
   "execution_count": 4,
   "id": "172d8a20-0f92-40dd-b19b-ac8df6f35234",
   "metadata": {},
   "outputs": [
    {
     "name": "stdout",
     "output_type": "stream",
     "text": [
      "Exercise provides numerous physical, emotional, and mental health benefits. Some of the most significant advantages of regular physical activity include:\n",
      "\n",
      "1. **Weight Management**: Exercise helps maintain a healthy weight by burning calories, building muscle, and improving metabolism.\n",
      "2. **Cardiovascular Health**: Regular physical activity strengthens the heart and lungs, reducing the risk of heart disease, strokes, and high blood pressure.\n",
      "3. **Improved Mental Health**: Exercise releases endorphins, which can help alleviate symptoms of anxiety, depression, and stress.\n",
      "4. **Increased Strength and Flexibility**: Physical activity helps build muscle mass, bone density, and flexibility, making daily activities easier.\n",
      "5. **Better Sleep**: Regular exercise can improve sleep quality, duration, and depth.\n",
      "6. **Enhanced Cognitive Function**: Exercise has been shown to improve cognitive function, memory, and concentration in both children and adults.\n",
      "7. **Reduced Risk of Chronic Diseases**: Regular physical activity reduces the risk of developing type 2 diabetes, certain types of cancer, and osteoporosis.\n",
      "8. **Improved Bone Density**: Exercise, especially weight-bearing activities like running or jumping, can help maintain strong bones and prevent osteoporosis.\n",
      "9. **Increased Energy**: Physical activity boosts energy levels and reduces fatigue, making it easier to tackle daily tasks.\n",
      "10. **Better Immune Function**: Exercise has been shown to improve immune function, reducing the risk of illness and infection.\n",
      "11. **Social Benefits**: Participating in group fitness activities or team sports can help build social connections, reduce feelings of loneliness, and promote a sense of community.\n",
      "12. **Increased Self-Esteem**: Regular physical activity can boost self-confidence, self-esteem, and overall mental well-being.\n",
      "13. **Reduced Risk of Falls**: Exercise, especially balance training, can help improve balance and reduce the risk of falls in older adults.\n",
      "14. **Improved Digestion**: Physical activity can help regulate bowel movements, alleviate constipation, and reduce symptoms of irritable bowel syndrome (IBS).\n",
      "15. **Enhanced Brain Function**: Exercise has been shown to promote neuroplasticity, improving brain function and reducing the risk of age-related cognitive decline.\n",
      "\n",
      "Remember, it's essential to find an exercise routine that you enjoy and can stick to in the long term. The benefits of exercise are cumulative, so even small amounts of physical activity can have a significant impact on your overall health and well-being.\n"
     ]
    }
   ],
   "source": [
    "# Run the chain\n",
    "result = chain.invoke({\"topic\": \"exercise\"})\n",
    "print(result)"
   ]
  }
 ],
 "metadata": {
  "kernelspec": {
   "display_name": "Python 3 (ipykernel)",
   "language": "python",
   "name": "python3"
  },
  "language_info": {
   "codemirror_mode": {
    "name": "ipython",
    "version": 3
   },
   "file_extension": ".py",
   "mimetype": "text/x-python",
   "name": "python",
   "nbconvert_exporter": "python",
   "pygments_lexer": "ipython3",
   "version": "3.11.13"
  }
 },
 "nbformat": 4,
 "nbformat_minor": 5
}
