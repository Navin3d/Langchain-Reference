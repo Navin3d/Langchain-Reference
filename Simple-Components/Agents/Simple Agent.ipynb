{
 "cells": [
  {
   "cell_type": "code",
   "execution_count": 1,
   "id": "79c6300b-4158-45d8-ada7-80d48499753b",
   "metadata": {},
   "outputs": [],
   "source": [
    "from langchain_ollama import ChatOllama\n",
    "from langchain_core.runnables import RunnableSequence\n",
    "from langchain_core.prompts import ChatMessagePromptTemplate\n",
    "from langchain_core.tools import tool\n",
    "\n",
    "from langgraph.checkpoint.memory import InMemorySaver\n",
    "from langgraph.graph import START, MessagesState, StateGraph"
   ]
  },
  {
   "cell_type": "code",
   "execution_count": 8,
   "id": "e993191f-19df-4cc3-b37e-fd1849955887",
   "metadata": {},
   "outputs": [],
   "source": [
    "@tool\n",
    "def greet(name: str) -> str:\n",
    "    \"\"\"Greets the user by name.\"\"\"\n",
    "    return f\"Hello, {name}!\"\n",
    "\n",
    "@tool\n",
    "def store_user_age(value: int) -> int:\n",
    "    \"\"\"\n",
    "    Calculates and stores the user's age.\n",
    "\n",
    "    This tool accepts either a birth year (e.g., 1992) or an age (e.g., 33).\n",
    "    If the input value is a year between 1900 and the current year, it is treated as a birth year.\n",
    "    Otherwise, it is assumed to be the user's age.\n",
    "\n",
    "    Returns the calculated age as an integer.\n",
    "    \"\"\"\n",
    "    current_year = datetime.now().year\n",
    "    if 1900 <= value <= current_year:\n",
    "        return current_year - value  # value is treated as birth year\n",
    "    return value  # value is assumed to be age"
   ]
  },
  {
   "cell_type": "code",
   "execution_count": 9,
   "id": "84d35e8d-d415-4e76-bd07-c9f3bfc5df1a",
   "metadata": {},
   "outputs": [],
   "source": [
    "tools = [greet, store_user_age]"
   ]
  },
  {
   "cell_type": "code",
   "execution_count": 10,
   "id": "dcc4e885-e897-45cd-a976-67a060fcae62",
   "metadata": {},
   "outputs": [],
   "source": [
    "llm = ChatOllama(model=\"qwen2.5:latest\")"
   ]
  },
  {
   "cell_type": "code",
   "execution_count": 11,
   "id": "0d781078-858f-49c6-adfa-ee940d518347",
   "metadata": {},
   "outputs": [],
   "source": [
    "chat = llm.bind_tools(tools=tools)"
   ]
  },
  {
   "cell_type": "code",
   "execution_count": null,
   "id": "e01fedb0-af17-46ed-8b9a-a24bf7b9d20d",
   "metadata": {},
   "outputs": [],
   "source": []
  }
 ],
 "metadata": {
  "kernelspec": {
   "display_name": "Python 3 (ipykernel)",
   "language": "python",
   "name": "python3"
  },
  "language_info": {
   "codemirror_mode": {
    "name": "ipython",
    "version": 3
   },
   "file_extension": ".py",
   "mimetype": "text/x-python",
   "name": "python",
   "nbconvert_exporter": "python",
   "pygments_lexer": "ipython3",
   "version": "3.11.13"
  }
 },
 "nbformat": 4,
 "nbformat_minor": 5
}
