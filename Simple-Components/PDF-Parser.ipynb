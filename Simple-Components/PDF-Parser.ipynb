{
 "cells": [
  {
   "cell_type": "code",
   "execution_count": 1,
   "id": "c795059c-08f5-4e9b-920a-1ed752622220",
   "metadata": {},
   "outputs": [],
   "source": [
    "from langchain.document_loaders import UnstructuredPDFLoader"
   ]
  },
  {
   "cell_type": "code",
   "execution_count": 2,
   "id": "0e53dad7-3cc4-4257-8c32-2cd0787efeed",
   "metadata": {},
   "outputs": [
    {
     "name": "stderr",
     "output_type": "stream",
     "text": [
      "C:\\Users\\Navin3d\\miniconda3\\envs\\langchain\\Lib\\site-packages\\tqdm\\auto.py:21: TqdmWarning: IProgress not found. Please update jupyter and ipywidgets. See https://ipywidgets.readthedocs.io/en/stable/user_install.html\n",
      "  from .autonotebook import tqdm as notebook_tqdm\n"
     ]
    },
    {
     "name": "stdout",
     "output_type": "stream",
     "text": [
      "Warning: No languages specified, defaulting to English.\n"
     ]
    }
   ],
   "source": [
    "# Load the PDF\n",
    "loader = UnstructuredPDFLoader(\"./data/monopoly.pdf\")\n",
    "elements = loader.load()"
   ]
  },
  {
   "cell_type": "code",
   "execution_count": 5,
   "id": "3fc91d7d-e664-4fd3-8ec9-844ebc6a2c6e",
   "metadata": {},
   "outputs": [
    {
     "data": {
      "text/plain": [
       "[Document(metadata={'source': './data/monopoly.pdf'}, page_content='MONOPOLY\\n\\nProperty Trading Game from Parker Brothers\" AGES 8+ 2 to 8 Players Contents: Gameboard, 3 dice, tokens, 32 houses, I2 hotels, Chance and Community Chest cards, Title Deed cards, play money and a Banker\\'s tray.\\n\\nNow there\\'s a faster way to play MONOPOLY. Choose to play by the classic rules for buying, renting and selling properties or use the Speed Die to get into the action faster. If you\\'ve never played the classic MONOPOLY game, refer to the Classic Rules beginning on the next page. If you already know how to play and want to use the Speed Die, just read the section below for the additional Speed Die rules.\\n\\nSPEED DIE RULES\\n\\nLearnins how to Play with the S~eed Die IS as\\n\\n/ fast as playing with i\\'t.\\n\\n1. When starting the game, hand out an extra $1,000 to each player (two $5005 should work). The game moves fast and you\\'ll need the extra cash to buy and build.\\n\\n2. Do not use the Speed Die until you\\'ve landed on or passed over GO for the first time. Once you collect that first $200 salary, you\\'ll use the Speed Die for the rest of the game. This means that some players will start using the die before others.\\n\\n3. Once you start using the Speed Die, roll it along with the two white dice on your turn. Then do the following depending on what you rolled. 1, 2, or 3: Add this number to the roll of the two white dice. You\\'ll zoom around the board.\\n\\nBus: This lets you \"get off the bus early.\" Look at the two white dice. You can move the value of one die, the other die, or the sum of both dice. So if you rolled a 1 and a 5, you can move 1 space, 5 spaces, or 6 spaces: \\\\t\\'s your choice. Mr. Monopoly: First, move the sum of the two white dice and resolve the space you land on (such as drawing a card, buying the property, paying rent, etc.). Then, one of two things will happen depending on whether or not there is still property in the bank.\\n\\nYES, there is property in the bank -Advance\\n\\nto the NEXT\\n\\nproperty that the bank still holds and buy it if you wish. If you don\\'t want to buy this property, move to the space anyway and put the property up for auction.\\n\\nNO, there are no more properties in the bank - Advance to the NOCT property on which you will owe another player money.\\n\\nA few minor details:\\n\\nOnly the white dice are used when determining if you rolled doubles. Do not look at the Speed Die.\\n\\nIf you roll a three-of-a-kind (all of the dice show the same number), you can move anywhere you want on the board!\\n\\nIf you get sent to jail during your move (either by landing on the \"Go to Jail\" space or by rolling doubles three times in a row) then your turn is over and you do not get to use the Speed Die for that turn. Use the white dice ONLY when rolling to get out of jail. L Use the sum of all three dice when determining how much to pay on a utility. Note: The Bus and Mr. Monopoly are valued at 0.\\n\\nCLASSIC MONOPOW RULES OBJECT: The object of the game IS to become the wealthiest player through buying, renting and selling property. PREPARATION: Place the board on a table and put the Chance and Community Chest cards facedown on\\n\\ntheir allotted spaces on the board. Each player chooses one token to represent himther while traveling around the board.\\n\\nEach player is given $1,500 divided as follows: P each of $500s,\\n\\n$100~ and $50~; 6 $40~; 5 each of $105, $ 5 ~ and $Is.\\n\\nAll remaining money and other equipment go to the Bank. Stack the ..\\n\\nBank\\'s money on edge in the compartments in the plastic Banker\\'s tray.\\n\\nBANKER. Select as Banker a player who will also make a good Auctioneer A Banker who plays ~n the game must keep hislher personal funds separate from those of the Bank. When more than f~ve persons play, the Banker may elect to act only as Banker and Auctioneer.\\n\\nTHE BANK: Besides the Bank\\'s money, the Bank holds the Title Deed cards and houses and hotels prior to purchase and use by the players. The Bank pays salaries and bonuses. It sells and auctions properties and hands out the~r proper Title Deed cards; it sells houses and hotels to the players and loans money when required on mortgages.\\n\\nThe Bank collects all taxes, fines, loans and interest, and the price of\\n\\nall properties which it sells and auctions.\\n\\nThe Bank nwer \"goes broke.\" If the Bank runs out of money, the Banker\\n\\nmay issue as much more as needed by writing on any ordinary paper.\\n\\nTHE PLAY: Starting with the Banker, each player in turn throws the dice.\\n\\nThe player with the highest total starts the play: Place your token on the corner marked \"GO,\" throw the dice and move your token in the direction of the arrow the number of\\n\\nspaces indicated by the dice. After you have completed your play, the turn passes to the left. The tokens remain on the spaces qccupied and proceed from that point on the player\\'s next turn. Two or more tokens may rest on the same space at the same time.\\n\\nAccording to the space your token reaches, you may be entitled to buy real estate or other properties - or obliged to pay rent, pay taxes, draw a Chance or Community Chest card, \"Go to Jail,\" etc.\\n\\nIf you throw doubles, you move your token as usual, the sum of the\\n\\ntwo dice, and are subject to any privileges or penalties pertaining to the space on which you land. Retaining the dice, throw again and move your token as before. If you throw doubles three times in succession, move your token immediately to the space marked \"In Jail\" (see JAIL).\\n\\n\"GO\": Each time a player\\'s token lands on or passes over GO, whether by throwing the dice or drawing a card, the Banker pays himther a $200 sala,ry.\\n\\nThe $200 is paid only once each time kound\\n\\nthe board. However, if a player passing GO on the throw of the dice lands 2 spaces beyond it on Community Chest, or 7 spaces beyond it on Chance, and draws the \"Advance to GO\" card, helshe collects $200 for passing GO the first time and another $200 for reaching it the second time by instructions on the card.\\n\\nBUYING PROPERTY: Whenever you land on an unowned property you may buy that property from the Bank at its printed price. You receive the Title Deed card showing ownership; place it faceup in front of you.\\n\\nIf you do not wish to buy the property, the Banker sells it at auction to the highest bidder. The buyer pays the Bank the amount of the bid in cash and receives the Title Deed card for that property. Any player, including the one who declined the option to buy it at the printed price, may bid. Bidding may start at any price.\\n\\nPAMNG the owner collects rent from you in accordance with the list printed on its Title Deed card.\\n\\nWhen you land on property owned by another player,\\n\\nIf the property is mortgaged, no rent can be collected. When a property is mortgaged, its Title Deed card is placed facedown in front of the owner.\\n\\nL\\n\\nIt is an advantage to hold all the Title Deed cards in a color-\\n\\ngroup (e.g., Boardwalk and Park Place; or Connecticut, Vermont and Oriental Avenues) because the owner may then charge double rent for unimproved properties in that color-group. This rule applies to unmortgaged properties even if another property in that color-group is mortgaged.\\n\\nIt is even more advantageous to have houses or hotels on properties\\n\\nbecause rents are much higher than for unimproved properties.\\n\\nThe owner may not collect the rent if he/she fails to ask for it before\\n\\nthe second player following throws the dice. \"CHANCE\" AND \"COMMUNITY CHEST\": When you land on either of these spaces, take the top card from the deck indicated, follow the\\n\\ninstructions and return the card facedown to the bottom of the deck.\\n\\nThe \"Get Out of Jail Free\" card is held until used and then returned to the bottom of the deck. If the player who draws it does not wish to use it, helshe may sell it, at any time, to another player at a price agreeable to both.\\n\\n\"INCOME TAX\": If you land here you have two options: You may estimate your tax at $900 and pay the Bank, or you may pay 10% of your total worth to the Bank. Your total worth is all your cash on hand, printed prices of mortgaged and unmortgaged properties and cost price of all buildings you own.\\n\\nYou must decide which option you will take before you add up\\n\\nyour total worth. \"JAIL\": You land in Jail when. ..(I) your token lands on the space marked \"Go to Jail\"; (2) you draw a card marked \"Go to JailN; or (3) you throw doubles three times in succession.\\n\\nWhen you are sent to Jail you cannot\\n\\ncollect your $200 salary in that move since, regardless of where your token is on the board, you must move it directly into Jail. Your turn ends when you are sent to Jail.\\n\\nIf you are not \"sent\" to Jail but in the ordinary course of play land on that space, you are \"Just Visiting,\" you incur no penalty, and you move ahead in the usual manner on your next turn.\\n\\nYou get out of Jail by.. .(I) throwing doubles on any of your next three turns; if you succeed in doing this you immediately move forward the number of spaces shown by your doubles throw; even though you had thrown doubles, you do not take another turn; (2) using the \"Get Out of Jail Free\" card if you have it; (3) purchasing the \"Get Out of Jail Free\" card from another player and playing it; (4) paying a fine of $50 before you roll the dice on either of your next two turns.\\n\\nIf you do not throw doubles by your third turn, you must pay the $50 fine. You then get out of Jail and immediately move forward the number of spaces shown by your throw.\\n\\nEven though you are in Jail, you may buy and sell property, buy and\\n\\nsell houses and hotels and collect rents.\\n\\n\"FREE PARKING\": A player landing on this place does not receive any money, property or reward of any kind. This is just a \"free\" resting place. HOUSES: When you own all the propert~es in a color-group you may buy houses from the Bank and erect them on those properties.\\n\\nIf you buy one house, you may put it on any\\n\\none of those properties. The next house you buy must be erected on one of the unimproved properties of this or any other complete color- group you may own.\\n\\nThe price you must pay the Bank for each house is shown on your ltle Deed card for the property on which you erect the house.\\n\\nThe owner still collects double rent from an opponent who lands on\\n\\nthe unimproved properties of hisher complete color-group.\\n\\nFollowing the above rules, you may buy and erect at any time as many houses as your judgement and financial standing will allow. But you must build evenly, i.e., you cannot erect more than one house on any one property of any color-group until you have built one house on wery property of that group. You may then begin on the second row of houses, and so on, up to a limit of four houses to a property. For example, you cannot build three houses on one property if you have only one house on another property of that group.\\n\\nAs you build evenly, you must also break down evenly ifyou sell\\n\\nhouses back to the Bank (see SELLING PROPERTY).\\n\\nHOTELS: When a player has four houses on each property of a complete color-group, hdshe may buy a hotel from the Bank and erect it on any property of the color-group. Hdshe returns the four houses from that property to the Bank and pays the price for the hotel as shown on the Ttle Deed card. Only one hotel may be erected on any one property. BUILDING SHORTAGES: When the Bank has no houses to sell, players wishing to build must wait for some player to return or sell histher houses to the Bank before building. If there are a limited number of houses and hotels available and two or more players wish to buy more than the Bank has, the houses or hotels must be sold at auction to the highest bidder.\\n\\nSELLING PROPERN: Unimproved properties, railroads and util~ties (but not buildings) may be sold to any player as a private transaction for any amount the owner can get; however, no property can be sold to another player if buildings are standing on any properties of that color- group. Any buildings so located must be sold back to the Bank before the owner can sell any property of that color-group.\\n\\nHouses and hotels may be sold back to the Bank at any time for one-\\n\\nhalf the price paid for them.\\n\\nAll houses on one color-group must be sold one by one, evenly, in\\n\\nreverse of the manner in which they were erected.\\n\\nAll hotels on one color-group may be sold at once, or they may be\\n\\nsold one house at a time (one hotel equals five houses), evenly, in reverse of the manner in which they were erected.\\n\\nMORTGAGES: Unimproved properties can be mortgaged through the Bank at any time. Before an improved property can be mortgaged, all the buildings on all the properties of its color-group must be sold back to the Bank at half price. The mortgage value is printed on each Title Deed card.\\n\\nNo rent can be collected on mortgaged properties or utilities,\\n\\nbut rent can be collected on unmortgaged properties in the same group.\\n\\nIn order to lift the mortgage, the owner must pay the Bank the amount of the mortgage plus 10% interest. When all the propert~es of a color-group are no longer mortgaged, the owner may begin to buy back houses at full price.\\n\\nThe player who mortgages property retains possession of it and no other player may secure it by lifting the mortgage from the Bank. However, the owner may sell this mortgaged property to another player at any agreed price. If you are the new owner, you may lift the mortgage at once if you wish by paying off the mortgage plus 10% interest to the Bank. If the mortgage is not lifted at once, you must pay the Bank 10% interest when you buy the property and if you lift the mortgage later you must pay the Bank an additional 10% interest as well\\n\\nas the amount of the mortgage. n\\n\\n\\n\\nBANKRUPTCY.. You are declared bankrupt if you owe more than you can pay either to another player or to the Bank. If your debt is to another player, you must tum over to that player all that you have of value and retire from the game. In making this settlement, if you own houses or\\n\\nhotels, you must retum these to the Bank in exchange for money to the extent of one-half the amount paid for them; this cash is given to the creditor. If you have mortgaged property you also turn this property over to your creditor but the new owner must at once pay . the Bank the amount of interest on the loan, which is 10% of the value of the property. The new owner who does this may then, at hislher option, pay the principal or hold the property until some later turn, then lift the mortgage. If helshe holds property in this way until a later turn, helshe must pay the interest again upon lifting the mortgage.\\n\\nShould you owe the Bank, instead of another player, more than you can pay (because of taxes or penalties) even by selling off buildings and mortgaging property, you must turn over all assets to the Bank. In this case, the Bank immediately sells by auction all property so taken, except buildings. A bankrupt player must immediately retire from the game. The last player left in the game wins.\\n\\nMISCEUANEOUS: Money can be loaned to a player only by the Bank and then only by mortgaging property. No player may borrow from or lend money to another player.\\n\\nL\\n\\nWe will be happy to hear your questions or comments about this game. Write to: Hasbro Games, Consumer Affairs Dept., P.O. Box 200, Pawtucket, RI 02862. Tel: 888-836-7025 (toll free). Canadian consumers please write to: Hasbro Canada Corporation, 2350 de la Province, Longueuil, QC Canada, J4G 1G2.\\n\\nThe HASBRO, PARKER BROTHERS, and MONOPOLY names and logos, the distinctive design of the gameboard, the four comer squares, the MR. MONOPOLY name and character, and each of the distinctive elements of the board and rules are trademarks of Hasbro for its property trading game and game equipment. 02004,2007 Hasbro, Pawtucket, RI 02862. All Rights Reserved. TM & @3 denote U.S. Trademarks. 00009-1\\n\\nPROOF OF PURCHASE I\\n\\n,')]"
      ]
     },
     "execution_count": 5,
     "metadata": {},
     "output_type": "execute_result"
    }
   ],
   "source": [
    "elements"
   ]
  },
  {
   "cell_type": "code",
   "execution_count": 4,
   "id": "3e2d1bee-4c21-4ae1-a532-202e6261bbf6",
   "metadata": {},
   "outputs": [],
   "source": [
    "# Filter elements that are likely to be headings\n",
    "headings = [e.page_content for e in elements if \"Title\" in str(e.metadata.get(\"category\", \"\")) or \"Header\" in str(e.metadata.get(\"category\", \"\"))]\n",
    "\n",
    "# Print or process headings\n",
    "for i, heading in enumerate(headings, 1):\n",
    "    print(f\"H{i}: {heading}\")"
   ]
  },
  {
   "cell_type": "code",
   "execution_count": null,
   "id": "5b27921e-7f89-4b91-8a53-05d08f782221",
   "metadata": {},
   "outputs": [],
   "source": [
    "import fitz  # PyMuPDF\n",
    "\n",
    "doc = fitz.open(\"./data/monopoly.pdf\")\n",
    "for page in doc:\n",
    "    text = page.get_text()\n",
    "    print(text)"
   ]
  },
  {
   "cell_type": "code",
   "execution_count": 21,
   "id": "4467b621-0ebc-4e64-a659-09e96b9872b2",
   "metadata": {},
   "outputs": [],
   "source": [
    "from unstructured.partition.pdf import partition_pdf\n",
    "from unstructured.documents.elements import Title"
   ]
  },
  {
   "cell_type": "code",
   "execution_count": 22,
   "id": "5497e7cd-d9a8-48f2-9d11-66f159c40bc3",
   "metadata": {},
   "outputs": [
    {
     "name": "stdout",
     "output_type": "stream",
     "text": [
      "Warning: No languages specified, defaulting to English.\n"
     ]
    }
   ],
   "source": [
    "elements = partition_pdf(filename=\"./data/monopoly.pdf\")"
   ]
  },
  {
   "cell_type": "code",
   "execution_count": 23,
   "id": "71d72d9a-dcfc-46af-80f6-f3f5a63912ea",
   "metadata": {},
   "outputs": [
    {
     "name": "stdout",
     "output_type": "stream",
     "text": [
      "H1: MONOPOLY\n",
      "H2: SPEED DIE RULES\n",
      "H3: to the NEXT\n",
      "H4: A few minor details:\n",
      "H5: Bank's money on edge in the compartments in the plastic Banker's tray.\n",
      "H6: L\n",
      "H7: the unimproved properties of hisher complete color-group.\n",
      "H8: L\n",
      "H9: PROOF OF PURCHASE I\n"
     ]
    }
   ],
   "source": [
    "# Extract only titles\n",
    "titles = [el.text for el in elements if isinstance(el, Title)]\n",
    "\n",
    "# Print results\n",
    "for idx, title in enumerate(titles, 1):\n",
    "    print(f\"H{idx}: {title}\")"
   ]
  }
 ],
 "metadata": {
  "kernelspec": {
   "display_name": "Python 3 (ipykernel)",
   "language": "python",
   "name": "python3"
  },
  "language_info": {
   "codemirror_mode": {
    "name": "ipython",
    "version": 3
   },
   "file_extension": ".py",
   "mimetype": "text/x-python",
   "name": "python",
   "nbconvert_exporter": "python",
   "pygments_lexer": "ipython3",
   "version": "3.11.13"
  }
 },
 "nbformat": 4,
 "nbformat_minor": 5
}
