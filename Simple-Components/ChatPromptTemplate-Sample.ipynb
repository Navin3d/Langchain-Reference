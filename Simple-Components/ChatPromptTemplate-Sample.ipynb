{
 "cells": [
  {
   "cell_type": "code",
   "execution_count": 5,
   "id": "8545f3aa-002a-45e3-b9fb-30fc27f49cef",
   "metadata": {},
   "outputs": [],
   "source": [
    "from langchain_core.prompts import ChatPromptTemplate, SystemMessagePromptTemplate, HumanMessagePromptTemplate\n",
    "from langchain_ollama.llms import OllamaLLM\n",
    "from langchain_core.runnables import RunnableSequence, RunnableParallel"
   ]
  },
  {
   "cell_type": "code",
   "execution_count": 15,
   "id": "453ca735-6cce-4a52-98fb-da4adbb7ca99",
   "metadata": {},
   "outputs": [],
   "source": [
    "system = \"You are Natural Language to SQL Converter, Don't emplain give only sql querry\"\n",
    "human = \"Give SQl for {nl}\"\n",
    "\n",
    "system_template = SystemMessagePromptTemplate.from_template(system)\n",
    "human_template = HumanMessagePromptTemplate.from_template(human)"
   ]
  },
  {
   "cell_type": "code",
   "execution_count": 16,
   "id": "f5644bd8-8eac-4e33-9ea3-5f1fdc8b0eb5",
   "metadata": {},
   "outputs": [],
   "source": [
    "prompt_template = ChatPromptTemplate([system_template, human_template])"
   ]
  },
  {
   "cell_type": "code",
   "execution_count": 17,
   "id": "b50b8d71-f540-4574-83e3-0e05c58b34c3",
   "metadata": {},
   "outputs": [],
   "source": [
    "llm = OllamaLLM(model=\"llama3:8b\")"
   ]
  },
  {
   "cell_type": "code",
   "execution_count": 18,
   "id": "043152d0-711f-4a0c-b16c-55266f3504a9",
   "metadata": {},
   "outputs": [],
   "source": [
    "run1 = RunnableSequence(prompt_template, llm)"
   ]
  },
  {
   "cell_type": "code",
   "execution_count": 20,
   "id": "5a3c347c-6759-4ea0-8c3c-9c8474306e48",
   "metadata": {},
   "outputs": [
    {
     "data": {
      "text/plain": [
       "'SELECT * FROM employees WHERE age > 20 AND age < 60;'"
      ]
     },
     "execution_count": 20,
     "metadata": {},
     "output_type": "execute_result"
    }
   ],
   "source": [
    "run1.invoke({\"nl\": \"show all records of employee who is older than 20 younger than 60\"})"
   ]
  }
 ],
 "metadata": {
  "kernelspec": {
   "display_name": "Python 3 (ipykernel)",
   "language": "python",
   "name": "python3"
  },
  "language_info": {
   "codemirror_mode": {
    "name": "ipython",
    "version": 3
   },
   "file_extension": ".py",
   "mimetype": "text/x-python",
   "name": "python",
   "nbconvert_exporter": "python",
   "pygments_lexer": "ipython3",
   "version": "3.11.13"
  }
 },
 "nbformat": 4,
 "nbformat_minor": 5
}
